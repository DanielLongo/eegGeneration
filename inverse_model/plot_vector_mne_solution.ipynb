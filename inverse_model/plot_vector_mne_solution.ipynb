{
 "cells": [
  {
   "cell_type": "code",
   "execution_count": 1,
   "metadata": {},
   "outputs": [],
   "source": [
    "%matplotlib inline"
   ]
  },
  {
   "cell_type": "markdown",
   "metadata": {},
   "source": [
    "\n",
    "# Plotting the full MNE solution\n",
    "\n",
    "\n",
    "The source space that is used for the inverse computation defines a set of\n",
    "dipoles, distributed across the cortex. When visualizing a source estimate, it\n",
    "is sometimes useful to show the dipole directions in addiion to their estimated\n",
    "magnitude.\n"
   ]
  },
  {
   "cell_type": "code",
   "execution_count": 49,
   "metadata": {
    "scrolled": true
   },
   "outputs": [
    {
     "name": "stdout",
     "output_type": "stream",
     "text": [
      "Automatically created module for IPython interactive environment\n",
      "Creating RawArray with float64 data, n_channels=8, n_times=768\n",
      "    Range : 0 ... 767 =      0.000 ...     3.068 secs\n",
      "Ready.\n",
      "1 matching events found\n",
      "Applying baseline correction (mode: mean)\n",
      "Not setting metadata\n",
      "0 projection items activated\n",
      "Loading data for 1 events and 176 original time points ...\n",
      "1 bad epochs dropped\n",
      "Applying average reference.\n",
      "Applying a custom EEG reference.\n"
     ]
    },
    {
     "ename": "AttributeError",
     "evalue": "'RawArray' object has no attribute 'endswith'",
     "output_type": "error",
     "traceback": [
      "\u001b[0;31m---------------------------------------------------------------------------\u001b[0m",
      "\u001b[0;31mAttributeError\u001b[0m                            Traceback (most recent call last)",
      "\u001b[0;32m<ipython-input-49-50d2ea8f0377>\u001b[0m in \u001b[0;36m<module>\u001b[0;34m()\u001b[0m\n\u001b[1;32m     23\u001b[0m \u001b[0mepoched\u001b[0m\u001b[0;34m.\u001b[0m\u001b[0mload_data\u001b[0m\u001b[0;34m(\u001b[0m\u001b[0;34m)\u001b[0m\u001b[0;34m\u001b[0m\u001b[0m\n\u001b[1;32m     24\u001b[0m \u001b[0mepoched\u001b[0m\u001b[0;34m.\u001b[0m\u001b[0mset_eeg_reference\u001b[0m\u001b[0;34m(\u001b[0m\u001b[0mref_channels\u001b[0m\u001b[0;34m=\u001b[0m\u001b[0;34m'average'\u001b[0m\u001b[0;34m)\u001b[0m\u001b[0;34m\u001b[0m\u001b[0m\n\u001b[0;32m---> 25\u001b[0;31m \u001b[0mevoked\u001b[0m \u001b[0;34m=\u001b[0m \u001b[0mmne\u001b[0m\u001b[0;34m.\u001b[0m\u001b[0mread_evokeds\u001b[0m\u001b[0;34m(\u001b[0m\u001b[0mraw\u001b[0m\u001b[0;34m,\u001b[0m \u001b[0mcondition\u001b[0m\u001b[0;34m=\u001b[0m\u001b[0;36m0\u001b[0m\u001b[0;34m,\u001b[0m \u001b[0mbaseline\u001b[0m\u001b[0;34m=\u001b[0m\u001b[0;34m(\u001b[0m\u001b[0;32mNone\u001b[0m\u001b[0;34m,\u001b[0m \u001b[0;36m0\u001b[0m\u001b[0;34m)\u001b[0m\u001b[0;34m)\u001b[0m\u001b[0;34m\u001b[0m\u001b[0m\n\u001b[0m\u001b[1;32m     26\u001b[0m \u001b[0;31m# Read inverse solution\u001b[0m\u001b[0;34m\u001b[0m\u001b[0;34m\u001b[0m\u001b[0m\n\u001b[1;32m     27\u001b[0m \u001b[0;31m# fname_inv = data_path + '/MEG/sample/sample_audvis-meg-oct-6-meg-inv.fif'\u001b[0m\u001b[0;34m\u001b[0m\u001b[0;34m\u001b[0m\u001b[0m\n",
      "\u001b[0;32m/anaconda3/lib/python3.6/site-packages/mne/evoked.py\u001b[0m in \u001b[0;36mread_evokeds\u001b[0;34m(fname, condition, baseline, kind, proj, allow_maxshield, verbose)\u001b[0m\n",
      "\u001b[0;32m/anaconda3/lib/python3.6/site-packages/mne/utils.py\u001b[0m in \u001b[0;36mverbose\u001b[0;34m(function, *args, **kwargs)\u001b[0m\n\u001b[1;32m    950\u001b[0m         \u001b[0;32mwith\u001b[0m \u001b[0muse_log_level\u001b[0m\u001b[0;34m(\u001b[0m\u001b[0mverbose_level\u001b[0m\u001b[0;34m)\u001b[0m\u001b[0;34m:\u001b[0m\u001b[0;34m\u001b[0m\u001b[0m\n\u001b[1;32m    951\u001b[0m             \u001b[0;32mreturn\u001b[0m \u001b[0mfunction\u001b[0m\u001b[0;34m(\u001b[0m\u001b[0;34m*\u001b[0m\u001b[0margs\u001b[0m\u001b[0;34m,\u001b[0m \u001b[0;34m**\u001b[0m\u001b[0mkwargs\u001b[0m\u001b[0;34m)\u001b[0m\u001b[0;34m\u001b[0m\u001b[0m\n\u001b[0;32m--> 952\u001b[0;31m     \u001b[0;32mreturn\u001b[0m \u001b[0mfunction\u001b[0m\u001b[0;34m(\u001b[0m\u001b[0;34m*\u001b[0m\u001b[0margs\u001b[0m\u001b[0;34m,\u001b[0m \u001b[0;34m**\u001b[0m\u001b[0mkwargs\u001b[0m\u001b[0;34m)\u001b[0m\u001b[0;34m\u001b[0m\u001b[0m\n\u001b[0m\u001b[1;32m    953\u001b[0m \u001b[0;34m\u001b[0m\u001b[0m\n\u001b[1;32m    954\u001b[0m \u001b[0;34m\u001b[0m\u001b[0m\n",
      "\u001b[0;32m/anaconda3/lib/python3.6/site-packages/mne/evoked.py\u001b[0m in \u001b[0;36mread_evokeds\u001b[0;34m(fname, condition, baseline, kind, proj, allow_maxshield, verbose)\u001b[0m\n\u001b[1;32m    960\u001b[0m     \"\"\"\n\u001b[1;32m    961\u001b[0m     check_fname(fname, 'evoked', ('-ave.fif', '-ave.fif.gz',\n\u001b[0;32m--> 962\u001b[0;31m                                   '_ave.fif', '_ave.fif.gz'))\n\u001b[0m\u001b[1;32m    963\u001b[0m     \u001b[0mlogger\u001b[0m\u001b[0;34m.\u001b[0m\u001b[0minfo\u001b[0m\u001b[0;34m(\u001b[0m\u001b[0;34m'Reading %s ...'\u001b[0m \u001b[0;34m%\u001b[0m \u001b[0mfname\u001b[0m\u001b[0;34m)\u001b[0m\u001b[0;34m\u001b[0m\u001b[0m\n\u001b[1;32m    964\u001b[0m     \u001b[0mreturn_list\u001b[0m \u001b[0;34m=\u001b[0m \u001b[0;32mTrue\u001b[0m\u001b[0;34m\u001b[0m\u001b[0m\n",
      "\u001b[0;32m/anaconda3/lib/python3.6/site-packages/mne/utils.py\u001b[0m in \u001b[0;36mcheck_fname\u001b[0;34m(fname, filetype, endings, endings_err)\u001b[0m\n\u001b[1;32m    494\u001b[0m                       % (fname, filetype, print_endings))\n\u001b[1;32m    495\u001b[0m     \u001b[0mprint_endings\u001b[0m \u001b[0;34m=\u001b[0m \u001b[0;34m' or '\u001b[0m\u001b[0;34m.\u001b[0m\u001b[0mjoin\u001b[0m\u001b[0;34m(\u001b[0m\u001b[0;34m[\u001b[0m\u001b[0;34m', '\u001b[0m\u001b[0;34m.\u001b[0m\u001b[0mjoin\u001b[0m\u001b[0;34m(\u001b[0m\u001b[0mendings\u001b[0m\u001b[0;34m[\u001b[0m\u001b[0;34m:\u001b[0m\u001b[0;34m-\u001b[0m\u001b[0;36m1\u001b[0m\u001b[0;34m]\u001b[0m\u001b[0;34m)\u001b[0m\u001b[0;34m,\u001b[0m \u001b[0mendings\u001b[0m\u001b[0;34m[\u001b[0m\u001b[0;34m-\u001b[0m\u001b[0;36m1\u001b[0m\u001b[0;34m]\u001b[0m\u001b[0;34m]\u001b[0m\u001b[0;34m)\u001b[0m\u001b[0;34m\u001b[0m\u001b[0m\n\u001b[0;32m--> 496\u001b[0;31m     \u001b[0;32mif\u001b[0m \u001b[0;32mnot\u001b[0m \u001b[0mfname\u001b[0m\u001b[0;34m.\u001b[0m\u001b[0mendswith\u001b[0m\u001b[0;34m(\u001b[0m\u001b[0mendings\u001b[0m\u001b[0;34m)\u001b[0m\u001b[0;34m:\u001b[0m\u001b[0;34m\u001b[0m\u001b[0m\n\u001b[0m\u001b[1;32m    497\u001b[0m         warn('This filename (%s) does not conform to MNE naming conventions. '\n\u001b[1;32m    498\u001b[0m              \u001b[0;34m'All %s files should end with %s'\u001b[0m\u001b[0;34m\u001b[0m\u001b[0m\n",
      "\u001b[0;31mAttributeError\u001b[0m: 'RawArray' object has no attribute 'endswith'"
     ]
    }
   ],
   "source": [
    "# Author: Marijn van Vliet <w.m.vanvliet@gmail.com>\n",
    "#\n",
    "# License: BSD (3-clause)\n",
    "import numpy as np\n",
    "import mne\n",
    "from mne.datasets import sample\n",
    "from mne.minimum_norm import read_inverse_operator, apply_inverse\n",
    "\n",
    "print(__doc__)\n",
    "\n",
    "data_path = sample.data_path()\n",
    "subjects_dir = data_path + '/subjects'\n",
    "\n",
    "# Read evoked data\n",
    "\n",
    "#G\n",
    "num_channels = 8\n",
    "channel_names = [\"EEG 00\" + str(i) for i in range(num_channels)]\n",
    "info = mne.create_info(channel_names, 250, \"eeg\")\n",
    "raw = mne.io.RawArray(np.random.rand(num_channels, 768), info)\n",
    "raw.pick_types(meg=False, eeg=True)\n",
    "epoched = mne.Epochs(raw, events=[[1,1,1]]) # TODO: look into events\n",
    "epoched.load_data()\n",
    "epoched.set_eeg_reference(ref_channels='average')\n",
    "\n",
    "# Read inverse solution\n",
    "fname_inv = data_path + \"/MEG/sample/sample_audvis-meg-eeg-oct-6-meg-eeg-inv.fif\"\n",
    "inv = read_inverse_operator(fname_inv)\n",
    "\n",
    "# Apply inverse solution, set pick_ori='vector' to obtain a\n",
    "# :class:`mne.VectorSourceEstimate` object\n",
    "snr = 3.0\n",
    "lambda2 = 1.0 / snr ** 2\n",
    "stc = apply_inverse(epoched, inv, lambda2, 'dSPM', pick_ori='vector')\n",
    "print(\"STC\", type(stc))\n",
    "print(\"STC shape\", stc.data.shape)\n",
    "\n",
    "# Use peak getter to move visualization to the time point of the peak magnitude\n",
    "_, peak_time = stc.magnitude().get_peak(hemi='lh')\n",
    "\n",
    "# Plot the source estimate\n",
    "# brain = stc.plot(initial_time=peak_time, hemi='lh', subjects_dir=subjects_dir)"
   ]
  },
  {
   "cell_type": "code",
   "execution_count": null,
   "metadata": {
    "collapsed": true
   },
   "outputs": [],
   "source": []
  },
  {
   "cell_type": "code",
   "execution_count": null,
   "metadata": {
    "collapsed": true
   },
   "outputs": [],
   "source": []
  }
 ],
 "metadata": {
  "kernelspec": {
   "display_name": "Python 3",
   "language": "python",
   "name": "python3"
  },
  "language_info": {
   "codemirror_mode": {
    "name": "ipython",
    "version": 3
   },
   "file_extension": ".py",
   "mimetype": "text/x-python",
   "name": "python",
   "nbconvert_exporter": "python",
   "pygments_lexer": "ipython3",
   "version": "3.6.3"
  }
 },
 "nbformat": 4,
 "nbformat_minor": 1
}
