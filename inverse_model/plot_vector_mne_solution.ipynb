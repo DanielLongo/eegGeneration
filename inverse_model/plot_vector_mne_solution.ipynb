{
 "cells": [
  {
   "cell_type": "code",
   "execution_count": 1,
   "metadata": {
    "collapsed": true
   },
   "outputs": [],
   "source": [
    "%matplotlib inline"
   ]
  },
  {
   "cell_type": "markdown",
   "metadata": {},
   "source": [
    "\n",
    "# Plotting the full MNE solution\n",
    "\n",
    "\n",
    "The source space that is used for the inverse computation defines a set of\n",
    "dipoles, distributed across the cortex. When visualizing a source estimate, it\n",
    "is sometimes useful to show the dipole directions in addiion to their estimated\n",
    "magnitude.\n"
   ]
  },
  {
   "cell_type": "markdown",
   "metadata": {},
   "source": [
    "Goal: compute inverse solution for an EEG (input: np.array, output: np.array)"
   ]
  },
  {
   "cell_type": "code",
   "execution_count": 51,
   "metadata": {
    "scrolled": true
   },
   "outputs": [
    {
     "name": "stdout",
     "output_type": "stream",
     "text": [
      "Automatically created module for IPython interactive environment\n",
      "Creating RawArray with float64 data, n_channels=8, n_times=768\n",
      "    Range : 0 ... 767 =      0.000 ...     3.068 secs\n",
      "Ready.\n",
      "1 matching events found\n",
      "Applying baseline correction (mode: mean)\n",
      "Not setting metadata\n",
      "0 projection items activated\n",
      "Loading data for 1 events and 176 original time points ...\n",
      "1 bad epochs dropped\n",
      "Applying average reference.\n",
      "Applying a custom EEG reference.\n",
      "Reading inverse operator decomposition from /Users/DanielLongo 1/mne_data/MNE-sample-data/MEG/sample/sample_audvis-meg-eeg-oct-6-meg-eeg-inv.fif...\n",
      "    Reading inverse operator info...\n",
      "    [done]\n",
      "    Reading inverse operator decomposition...\n",
      "    [done]\n",
      "    364 x 364 full covariance (kind = 1) found.\n",
      "    Read a total of 4 projection items:\n",
      "        PCA-v1 (1 x 102) active\n",
      "        PCA-v2 (1 x 102) active\n",
      "        PCA-v3 (1 x 102) active\n",
      "        Average EEG reference (1 x 60) active\n",
      "    Noise covariance matrix read.\n",
      "    22494 x 22494 diagonal covariance (kind = 2) found.\n",
      "    Source covariance matrix read.\n",
      "    22494 x 22494 diagonal covariance (kind = 6) found.\n",
      "    Orientation priors read.\n",
      "    22494 x 22494 diagonal covariance (kind = 5) found.\n",
      "    Depth priors read.\n",
      "    Did not find the desired covariance matrix (kind = 3)\n",
      "    Reading a source space...\n",
      "    Computing patch statistics...\n",
      "    Patch information added...\n",
      "    Distance information added...\n",
      "    [done]\n",
      "    Reading a source space...\n",
      "    Computing patch statistics...\n",
      "    Patch information added...\n",
      "    Distance information added...\n",
      "    [done]\n",
      "    2 source spaces read\n",
      "    Read a total of 4 projection items:\n",
      "        PCA-v1 (1 x 102) active\n",
      "        PCA-v2 (1 x 102) active\n",
      "        PCA-v3 (1 x 102) active\n",
      "        Average EEG reference (1 x 60) active\n",
      "    Source spaces transformed to the inverse solution coordinate frame\n"
     ]
    },
    {
     "ename": "ValueError",
     "evalue": "Custom EEG reference is not allowed for inverse modeling.",
     "output_type": "error",
     "traceback": [
      "\u001b[0;31m---------------------------------------------------------------------------\u001b[0m",
      "\u001b[0;31mValueError\u001b[0m                                Traceback (most recent call last)",
      "\u001b[0;32m<ipython-input-51-c64c9f9f1da4>\u001b[0m in \u001b[0;36m<module>\u001b[0;34m()\u001b[0m\n\u001b[1;32m     32\u001b[0m \u001b[0msnr\u001b[0m \u001b[0;34m=\u001b[0m \u001b[0;36m3.0\u001b[0m\u001b[0;34m\u001b[0m\u001b[0m\n\u001b[1;32m     33\u001b[0m \u001b[0mlambda2\u001b[0m \u001b[0;34m=\u001b[0m \u001b[0;36m1.0\u001b[0m \u001b[0;34m/\u001b[0m \u001b[0msnr\u001b[0m \u001b[0;34m**\u001b[0m \u001b[0;36m2\u001b[0m\u001b[0;34m\u001b[0m\u001b[0m\n\u001b[0;32m---> 34\u001b[0;31m \u001b[0mstc\u001b[0m \u001b[0;34m=\u001b[0m \u001b[0mapply_inverse\u001b[0m\u001b[0;34m(\u001b[0m\u001b[0mepoched\u001b[0m\u001b[0;34m,\u001b[0m \u001b[0minv\u001b[0m\u001b[0;34m,\u001b[0m \u001b[0mlambda2\u001b[0m\u001b[0;34m,\u001b[0m \u001b[0;34m'dSPM'\u001b[0m\u001b[0;34m,\u001b[0m \u001b[0mpick_ori\u001b[0m\u001b[0;34m=\u001b[0m\u001b[0;34m'vector'\u001b[0m\u001b[0;34m)\u001b[0m\u001b[0;34m\u001b[0m\u001b[0m\n\u001b[0m\u001b[1;32m     35\u001b[0m \u001b[0mprint\u001b[0m\u001b[0;34m(\u001b[0m\u001b[0;34m\"STC\"\u001b[0m\u001b[0;34m,\u001b[0m \u001b[0mtype\u001b[0m\u001b[0;34m(\u001b[0m\u001b[0mstc\u001b[0m\u001b[0;34m)\u001b[0m\u001b[0;34m)\u001b[0m\u001b[0;34m\u001b[0m\u001b[0m\n\u001b[1;32m     36\u001b[0m \u001b[0mprint\u001b[0m\u001b[0;34m(\u001b[0m\u001b[0;34m\"STC shape\"\u001b[0m\u001b[0;34m,\u001b[0m \u001b[0mstc\u001b[0m\u001b[0;34m.\u001b[0m\u001b[0mdata\u001b[0m\u001b[0;34m.\u001b[0m\u001b[0mshape\u001b[0m\u001b[0;34m)\u001b[0m\u001b[0;34m\u001b[0m\u001b[0m\n",
      "\u001b[0;32m/anaconda3/lib/python3.6/site-packages/mne/minimum_norm/inverse.py\u001b[0m in \u001b[0;36mapply_inverse\u001b[0;34m(evoked, inverse_operator, lambda2, method, pick_ori, prepared, label, method_params, return_residual, verbose)\u001b[0m\n",
      "\u001b[0;32m/anaconda3/lib/python3.6/site-packages/mne/utils.py\u001b[0m in \u001b[0;36mverbose\u001b[0;34m(function, *args, **kwargs)\u001b[0m\n\u001b[1;32m    950\u001b[0m         \u001b[0;32mwith\u001b[0m \u001b[0muse_log_level\u001b[0m\u001b[0;34m(\u001b[0m\u001b[0mverbose_level\u001b[0m\u001b[0;34m)\u001b[0m\u001b[0;34m:\u001b[0m\u001b[0;34m\u001b[0m\u001b[0m\n\u001b[1;32m    951\u001b[0m             \u001b[0;32mreturn\u001b[0m \u001b[0mfunction\u001b[0m\u001b[0;34m(\u001b[0m\u001b[0;34m*\u001b[0m\u001b[0margs\u001b[0m\u001b[0;34m,\u001b[0m \u001b[0;34m**\u001b[0m\u001b[0mkwargs\u001b[0m\u001b[0;34m)\u001b[0m\u001b[0;34m\u001b[0m\u001b[0m\n\u001b[0;32m--> 952\u001b[0;31m     \u001b[0;32mreturn\u001b[0m \u001b[0mfunction\u001b[0m\u001b[0;34m(\u001b[0m\u001b[0;34m*\u001b[0m\u001b[0margs\u001b[0m\u001b[0;34m,\u001b[0m \u001b[0;34m**\u001b[0m\u001b[0mkwargs\u001b[0m\u001b[0;34m)\u001b[0m\u001b[0;34m\u001b[0m\u001b[0m\n\u001b[0m\u001b[1;32m    953\u001b[0m \u001b[0;34m\u001b[0m\u001b[0m\n\u001b[1;32m    954\u001b[0m \u001b[0;34m\u001b[0m\u001b[0m\n",
      "\u001b[0;32m/anaconda3/lib/python3.6/site-packages/mne/minimum_norm/inverse.py\u001b[0m in \u001b[0;36mapply_inverse\u001b[0;34m(evoked, inverse_operator, lambda2, method, pick_ori, prepared, label, method_params, return_residual, verbose)\u001b[0m\n\u001b[1;32m    923\u001b[0m            \u001b[0mlocalization\u001b[0m\u001b[0;34m.\u001b[0m \u001b[0marXiv\u001b[0m\u001b[0;34m:\u001b[0m\u001b[0;36m0710.3341\u001b[0m\u001b[0;34m\u001b[0m\u001b[0m\n\u001b[1;32m    924\u001b[0m     \"\"\"\n\u001b[0;32m--> 925\u001b[0;31m     \u001b[0m_check_reference\u001b[0m\u001b[0;34m(\u001b[0m\u001b[0mevoked\u001b[0m\u001b[0;34m,\u001b[0m \u001b[0minverse_operator\u001b[0m\u001b[0;34m[\u001b[0m\u001b[0;34m'info'\u001b[0m\u001b[0;34m]\u001b[0m\u001b[0;34m[\u001b[0m\u001b[0;34m'ch_names'\u001b[0m\u001b[0;34m]\u001b[0m\u001b[0;34m)\u001b[0m\u001b[0;34m\u001b[0m\u001b[0m\n\u001b[0m\u001b[1;32m    926\u001b[0m     \u001b[0m_check_method\u001b[0m\u001b[0;34m(\u001b[0m\u001b[0mmethod\u001b[0m\u001b[0;34m)\u001b[0m\u001b[0;34m\u001b[0m\u001b[0m\n\u001b[1;32m    927\u001b[0m     \u001b[0;32mif\u001b[0m \u001b[0mmethod\u001b[0m \u001b[0;34m==\u001b[0m \u001b[0;34m'eLORETA'\u001b[0m \u001b[0;32mand\u001b[0m \u001b[0mreturn_residual\u001b[0m\u001b[0;34m:\u001b[0m\u001b[0;34m\u001b[0m\u001b[0m\n",
      "\u001b[0;32m/anaconda3/lib/python3.6/site-packages/mne/minimum_norm/inverse.py\u001b[0m in \u001b[0;36m_check_reference\u001b[0;34m(inst, ch_names)\u001b[0m\n\u001b[1;32m    806\u001b[0m                          'modeling, use set_eeg_reference method.')\n\u001b[1;32m    807\u001b[0m     \u001b[0;32mif\u001b[0m \u001b[0minfo\u001b[0m\u001b[0;34m[\u001b[0m\u001b[0;34m'custom_ref_applied'\u001b[0m\u001b[0;34m]\u001b[0m\u001b[0;34m:\u001b[0m\u001b[0;34m\u001b[0m\u001b[0m\n\u001b[0;32m--> 808\u001b[0;31m         raise ValueError('Custom EEG reference is not allowed for inverse '\n\u001b[0m\u001b[1;32m    809\u001b[0m                          'modeling.')\n\u001b[1;32m    810\u001b[0m \u001b[0;34m\u001b[0m\u001b[0m\n",
      "\u001b[0;31mValueError\u001b[0m: Custom EEG reference is not allowed for inverse modeling."
     ]
    }
   ],
   "source": [
    "# Author: Marijn van Vliet <w.m.vanvliet@gmail.com>\n",
    "#\n",
    "# License: BSD (3-clause)\n",
    "import numpy as np\n",
    "import mne\n",
    "from mne.datasets import sample\n",
    "from mne.minimum_norm import read_inverse_operator, apply_inverse\n",
    "\n",
    "print(__doc__)\n",
    "\n",
    "data_path = sample.data_path()\n",
    "subjects_dir = data_path + '/subjects'\n",
    "\n",
    "# Read evoked data\n",
    "\n",
    "num_channels = 8\n",
    "channel_names = [\"EEG 00\" + str(i) for i in range(num_channels)]\n",
    "info = mne.create_info(channel_names, 250, \"eeg\")\n",
    "raw = mne.io.RawArray(np.random.rand(num_channels, 768), info)\n",
    "raw.pick_types(meg=False, eeg=True)\n",
    "\n",
    "epoched = mne.Epochs(raw, events=[[1,1,1]]) # TODO: look into events\n",
    "epoched.load_data()\n",
    "epoched.set_eeg_reference(ref_channels='average')\n",
    "\n",
    "# Read inverse solution\n",
    "fname_inv = data_path + \"/MEG/sample/sample_audvis-meg-eeg-oct-6-meg-eeg-inv.fif\"\n",
    "inv = read_inverse_operator(fname_inv)\n",
    "\n",
    "# Apply inverse solution, set pick_ori='vector' to obtain a\n",
    "# :class:`mne.VectorSourceEstimate` object\n",
    "snr = 3.0\n",
    "lambda2 = 1.0 / snr ** 2\n",
    "stc = apply_inverse(epoched, inv, lambda2, 'dSPM', pick_ori='vector')\n",
    "print(\"STC\", type(stc))\n",
    "print(\"STC shape\", stc.data.shape)\n",
    "\n",
    "# Use peak getter to move visualization to the time point of the peak magnitude\n",
    "_, peak_time = stc.magnitude().get_peak(hemi='lh')\n",
    "\n",
    "# Plot the source estimate\n",
    "# brain = stc.plot(initial_time=peak_time, hemi='lh', subjects_dir=subjects_dir)"
   ]
  },
  {
   "cell_type": "code",
   "execution_count": null,
   "metadata": {
    "collapsed": true
   },
   "outputs": [],
   "source": []
  },
  {
   "cell_type": "code",
   "execution_count": null,
   "metadata": {
    "collapsed": true
   },
   "outputs": [],
   "source": []
  }
 ],
 "metadata": {
  "kernelspec": {
   "display_name": "Python 3",
   "language": "python",
   "name": "python3"
  },
  "language_info": {
   "codemirror_mode": {
    "name": "ipython",
    "version": 3
   },
   "file_extension": ".py",
   "mimetype": "text/x-python",
   "name": "python",
   "nbconvert_exporter": "python",
   "pygments_lexer": "ipython3",
   "version": "3.6.3"
  }
 },
 "nbformat": 4,
 "nbformat_minor": 1
}
