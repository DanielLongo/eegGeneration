{
 "cells": [
  {
   "cell_type": "code",
   "execution_count": 1,
   "metadata": {
    "scrolled": true
   },
   "outputs": [
    {
     "name": "stdout",
     "output_type": "stream",
     "text": [
      "1.16.4\n"
     ]
    }
   ],
   "source": [
    "%load_ext autoreload\n",
    "%autoreload 2\n",
    "%matplotlib inline\n",
    "import numpy as np\n",
    "print(np.__version__)"
   ]
  },
  {
   "cell_type": "code",
   "execution_count": 2,
   "metadata": {},
   "outputs": [],
   "source": [
    "import sys\n",
    "sys.path.insert(0,'/Users/siyitang/Dropbox/Github/metal')"
   ]
  },
  {
   "cell_type": "code",
   "execution_count": 3,
   "metadata": {},
   "outputs": [
    {
     "name": "stdout",
     "output_type": "stream",
     "text": [
      "0.5.0\n"
     ]
    }
   ],
   "source": [
    "import metal\n",
    "print(metal.__version__)"
   ]
  },
  {
   "cell_type": "code",
   "execution_count": 4,
   "metadata": {},
   "outputs": [],
   "source": [
    "import sys\n",
    "import os\n",
    "#os.environ['CUDA_VISIBLE_DEVICES']='0'\n",
    "import pandas as pd"
   ]
  },
  {
   "cell_type": "code",
   "execution_count": 5,
   "metadata": {},
   "outputs": [
    {
     "name": "stdout",
     "output_type": "stream",
     "text": [
      "['note_uuid' 'note_date' 'edf_file_name' 'start_dt' 'end_dt' 'birth_date'\n",
      " 'EEG report' 'note' 'seizureScore' 'hand_label' 'EEG report.1'\n",
      " 'Notes (e.g. sw = spike wave, (hyps)arrhythmia, poss sz, polyspike bursts)'\n",
      " 'Unnamed: 14' 'Unnamed: 15' 'multiclass_label_abnormal'\n",
      " 'multiclass_label_seizure' 'multiclass_label_slowing'\n",
      " 'multiclass_label_spikes' 'multiclass_label_sharps'\n",
      " 'multiclass_label_suppression' 'multiclass_label_discont'\n",
      " 'multiclass_label_hypsar' 'multiclass_label_seizure_motor'\n",
      " 'multiclass_label_seizure_hyperkinetic' 'multiclass_label_seizure_tonic'\n",
      " 'multiclass_label_seizure_clonic']\n"
     ]
    }
   ],
   "source": [
    "# Setting data location\n",
    "eeg_data_path = '/Users/siyitang/Documents/RubinLab/Project/EEG/Data/Reports'\n",
    "#eeg_data_path = '/home/tsy935/Docs/RubinLab/Data/EEG/Reports'\n",
    "eeg_data_file = 'reports_unique_for_hl_mm_multiclassLabels.csv'\n",
    "data_path = os.path.join(eeg_data_path, eeg_data_file)\n",
    "\n",
    "# Loading data\n",
    "df_eeg = pd.read_csv(data_path, index_col=0).dropna(how='all')\n",
    "\n",
    "# Rename the column names\n",
    "print(df_eeg.columns.values)"
   ]
  },
  {
   "cell_type": "code",
   "execution_count": 6,
   "metadata": {
    "scrolled": true
   },
   "outputs": [],
   "source": [
    "# Testing a single EEGNote\n",
    "from eeg_utils import EEGNote\n",
    "noteObj = EEGNote(df_eeg['note_uuid'][100], df_eeg['note'][100])"
   ]
  },
  {
   "cell_type": "code",
   "execution_count": 7,
   "metadata": {},
   "outputs": [
    {
     "name": "stdout",
     "output_type": "stream",
     "text": [
      "Loading pre-parsed EEG notes...\n"
     ]
    }
   ],
   "source": [
    "# Use the more general function to parse EEG doc\n",
    "import dill\n",
    "from eeg_utils import parse_eeg_docs_multiclass\n",
    "\n",
    "# Parsing documents -- note that 1 = abnormal, 2 = others\n",
    "column_names = ['multiclass_label_abnormal','multiclass_label_seizure', 'multiclass_label_slowing', \n",
    "                'multiclass_label_spikes', 'multiclass_label_sharps', 'multiclass_label_suppression', \n",
    "                'multiclass_label_discont','multiclass_label_hypsar', 'multiclass_label_seizure_motor', \n",
    "                'multiclass_label_seizure_hyperkinetic',\n",
    "               'multiclass_label_seizure_clonic', 'multiclass_label_seizure_tonic']\n",
    "\n",
    "eeg_note_dill = 'parsed_eeg_notes.dill'\n",
    "eeg_note_dill_path = os.path.join(eeg_data_path, eeg_note_dill)\n",
    "\n",
    "if os.path.exists(eeg_note_dill_path):\n",
    "    print('Loading pre-parsed EEG notes...')\n",
    "    with open(eeg_note_dill_path, 'rb') as af:\n",
    "        docs = dill.load(af)\n",
    "else:\n",
    "    print('Parsing EEG notes...')\n",
    "    docs = parse_eeg_docs_multiclass(df_eeg, column_names, use_dask=False)\n",
    "    with open(eeg_note_dill_path,'wb') as af:\n",
    "        dill.dump(docs, af)"
   ]
  },
  {
   "cell_type": "code",
   "execution_count": 8,
   "metadata": {},
   "outputs": [],
   "source": [
    "# These are docs with empty sections -- most look like they're not EEG reports!\n",
    "from eeg_utils import get_empty_docs\n",
    "empty_docs = get_empty_docs(docs)"
   ]
  },
  {
   "cell_type": "code",
   "execution_count": 9,
   "metadata": {},
   "outputs": [
    {
     "name": "stdout",
     "output_type": "stream",
     "text": [
      "Number of EEG Reports with Sections: 10303\n"
     ]
    }
   ],
   "source": [
    "# Removing empty EEG docs\n",
    "eeg_docs = list(set(docs)-set(empty_docs))\n",
    "print(f'Number of EEG Reports with Sections: {len(eeg_docs)}')"
   ]
  },
  {
   "cell_type": "code",
   "execution_count": 10,
   "metadata": {},
   "outputs": [],
   "source": [
    "import numpy as np\n",
    "from eeg_utils import create_data_split_multiclass\n",
    "\n",
    "# Shuffling and setting seed\n",
    "np.random.seed(123)\n",
    "np.random.shuffle(eeg_docs)\n",
    "\n",
    "# Creating data split\n",
    "train_docs, dev_docs, test_docs = create_data_split_multiclass(eeg_docs, column_names)\n",
    "docs_list = [train_docs, dev_docs, test_docs]"
   ]
  },
  {
   "cell_type": "code",
   "execution_count": 11,
   "metadata": {},
   "outputs": [
    {
     "name": "stdout",
     "output_type": "stream",
     "text": [
      "Y_dev length:12\n",
      "Y_dev task 0:[1. 1. 2. 2. 2. 1. 2. 1. 2. 1. 1. 2. 1. 1. 1. 1. 2. 2. 1. 2. 1. 1. 1. 1.\n",
      " 2. 1. 1. 1. 1. 1. 1. 1. 2. 1. 1. 1. 2. 1. 1. 1. 2. 1. 2. 1. 1. 2. 2. 2.\n",
      " 1. 1. 1. 1. 1. 1. 1. 1. 2. 2. 1. 2. 2. 2. 1. 2. 2. 1. 2. 1. 2. 1. 1. 2.\n",
      " 2. 2. 1. 1. 1. 2. 2. 1. 1. 1. 1. 2. 1. 1. 2. 2. 1. 1. 1. 1. 2. 1. 1. 2.\n",
      " 2. 2. 2. 2. 1. 1. 1. 1. 2. 1. 1. 1. 2. 1. 1. 1. 2. 2. 1. 1. 1. 1. 2. 1.\n",
      " 2. 1. 1. 2. 1. 1. 2. 1. 1. 1. 2. 1. 2. 1. 2. 1. 1. 1. 2. 2. 1. 1. 1. 2.\n",
      " 2. 2. 2. 1. 1. 1. 1. 2. 2. 1. 2. 1. 1. 2. 2. 1. 1. 1. 1. 1. 2. 2. 1. 1.\n",
      " 2. 1. 1. 2. 1. 2. 2. 1. 1. 1. 1. 1. 1. 1. 2. 2. 2. 2. 2. 1. 1. 1. 1. 1.\n",
      " 1. 2. 1. 1. 1. 1. 1. 1. 1. 1. 1. 2. 1. 1. 2. 1. 1. 1. 1. 1. 1. 2. 1. 1.\n",
      " 2. 2. 1. 2. 2. 2. 1. 2. 2. 2. 2. 2. 2. 2. 2. 2. 1. 1. 2. 1. 2. 1. 2. 1.\n",
      " 1. 2. 1. 1. 1. 1. 2. 1. 1. 2. 2. 1. 1. 2. 1. 1. 2. 1. 2. 1. 1. 2.]\n",
      "Class 1 dev positive percentage: 0.6106870229007634\n",
      "Class 1 test positive percentage: 0.6045627376425855\n",
      "\n",
      "Class 2 dev positive percentage: 0.1984732824427481\n",
      "Class 2 test positive percentage: 0.22433460076045628\n",
      "\n",
      "Class 3 dev positive percentage: 0.3320610687022901\n",
      "Class 3 test positive percentage: 0.2813688212927757\n",
      "\n",
      "Class 4 dev positive percentage: 0.2366412213740458\n",
      "Class 4 test positive percentage: 0.23954372623574144\n",
      "\n",
      "Class 5 dev positive percentage: 0.11450381679389313\n",
      "Class 5 test positive percentage: 0.12547528517110265\n",
      "\n",
      "Class 6 dev positive percentage: 0.030534351145038167\n",
      "Class 6 test positive percentage: 0.019011406844106463\n",
      "\n",
      "Class 7 dev positive percentage: 0.061068702290076333\n",
      "Class 7 test positive percentage: 0.04182509505703422\n",
      "\n",
      "Class 8 dev positive percentage: 0.022900763358778626\n",
      "Class 8 test positive percentage: 0.015209125475285171\n",
      "\n",
      "Class 9 dev positive percentage: 0.04580152671755725\n",
      "Class 9 test positive percentage: 0.060836501901140684\n",
      "\n",
      "Class 10 dev positive percentage: 0.019083969465648856\n",
      "Class 10 test positive percentage: 0.011406844106463879\n",
      "\n",
      "Class 11 dev positive percentage: 0.007633587786259542\n",
      "Class 11 test positive percentage: 0.019011406844106463\n",
      "\n",
      "Class 12 dev positive percentage: 0.007633587786259542\n",
      "Class 12 test positive percentage: 0.034220532319391636\n",
      "\n"
     ]
    }
   ],
   "source": [
    "Y_dev = []\n",
    "Y_test = []\n",
    "\n",
    "# Computing dev/test label balance for each class\n",
    "for i, col_name in enumerate(column_names):\n",
    "    curr_Y_dev = np.array([doc.gold_label[col_name] for doc in dev_docs])\n",
    "    curr_Y_test = np.array([doc.gold_label[col_name] for doc in test_docs])\n",
    "    Y_dev.append(curr_Y_dev)\n",
    "    Y_test.append(curr_Y_test)\n",
    "\n",
    "print('Y_dev length:{}'.format(len(Y_dev)))\n",
    "print('Y_dev task 0:{}'.format(Y_dev[0]))\n",
    "\n",
    "dev_balance = np.zeros((len(column_names)))\n",
    "test_balance = np.zeros((len(column_names)))\n",
    "\n",
    "for i in range(len(column_names)):\n",
    "    dev_balance[i] = np.sum(Y_dev[i] == 1) /len(Y_dev[i])\n",
    "    test_balance[i] = np.sum(Y_test[i] == 1)/len(Y_test[i])\n",
    "    print(f'Class {i+1} dev positive percentage: {dev_balance[i]}')\n",
    "    print(f'Class {i+1} test positive percentage: {test_balance[i]}\\n')"
   ]
  },
  {
   "cell_type": "code",
   "execution_count": 12,
   "metadata": {},
   "outputs": [],
   "source": [
    "import re\n",
    "from eeg_lfs_multiclass import *\n",
    "from eeg_utils import get_section_with_name"
   ]
  },
  {
   "cell_type": "code",
   "execution_count": 13,
   "metadata": {},
   "outputs": [
    {
     "data": {
      "text/html": [
       "<div>\n",
       "<style scoped>\n",
       "    .dataframe tbody tr th:only-of-type {\n",
       "        vertical-align: middle;\n",
       "    }\n",
       "\n",
       "    .dataframe tbody tr th {\n",
       "        vertical-align: top;\n",
       "    }\n",
       "\n",
       "    .dataframe thead th {\n",
       "        text-align: right;\n",
       "    }\n",
       "</style>\n",
       "<table border=\"1\" class=\"dataframe\">\n",
       "  <thead>\n",
       "    <tr style=\"text-align: right;\">\n",
       "      <th></th>\n",
       "      <th>Polarity</th>\n",
       "      <th>Coverage</th>\n",
       "      <th>Overlaps</th>\n",
       "      <th>Conflicts</th>\n",
       "      <th>Correct</th>\n",
       "      <th>Incorrect</th>\n",
       "      <th>Emp. Acc.</th>\n",
       "    </tr>\n",
       "  </thead>\n",
       "  <tbody>\n",
       "    <tr>\n",
       "      <th>0</th>\n",
       "      <td>[1, 2]</td>\n",
       "      <td>0.996183</td>\n",
       "      <td>0.0</td>\n",
       "      <td>0.0</td>\n",
       "      <td>253</td>\n",
       "      <td>8</td>\n",
       "      <td>0.969349</td>\n",
       "    </tr>\n",
       "  </tbody>\n",
       "</table>\n",
       "</div>"
      ],
      "text/plain": [
       "  Polarity  Coverage  Overlaps  Conflicts  Correct  Incorrect  Emp. Acc.\n",
       "0   [1, 2]  0.996183       0.0        0.0      253          8   0.969349"
      ]
     },
     "execution_count": 13,
     "metadata": {},
     "output_type": "execute_result"
    }
   ],
   "source": [
    "from metal.analysis import single_lf_summary, confusion_matrix\n",
    "column_names = ['multiclass_label_abnormal','multiclass_label_seizure', 'multiclass_label_slowing', \n",
    "                'multiclass_label_spikes', 'multiclass_label_sharps', 'multiclass_label_suppression', \n",
    "                'multiclass_label_discont','multiclass_label_hypsar', 'multiclass_label_seizure_motor', \n",
    "                'multiclass_label_seizure_hyperkinetic',\n",
    "               'multiclass_label_seizure_clonic', 'multiclass_label_seizure_tonic']\n",
    "\n",
    "# Testing single LF\n",
    "class_idx = 0\n",
    "lf_test = lf_findall_abnormal_interp\n",
    "\n",
    "# Computing labels\n",
    "Y_lf = np.array([lf_test(doc) for doc in dev_docs])\n",
    "single_lf_summary(Y_lf, Y=Y_dev[class_idx])"
   ]
  },
  {
   "cell_type": "code",
   "execution_count": 14,
   "metadata": {},
   "outputs": [
    {
     "name": "stdout",
     "output_type": "stream",
     "text": [
      "        y=1    y=2   \n",
      " l=1    155     4    \n",
      " l=2     4     98    \n"
     ]
    }
   ],
   "source": [
    "# Print confusion matrix\n",
    "conf = confusion_matrix(Y_dev[class_idx], Y_lf)"
   ]
  },
  {
   "cell_type": "code",
   "execution_count": 15,
   "metadata": {},
   "outputs": [
    {
     "name": "stdout",
     "output_type": "stream",
     "text": [
      "12\n"
     ]
    }
   ],
   "source": [
    "# 12 tasks\n",
    "# task 0: {ABNORMAL, NORMAL}\n",
    "# task 1: {SEIZURE, OTHER_ABNORMAL, NOT_APPLICABLE}\n",
    "# task 2: {SLOWING, OTHER_ABNORMAL, NOT_APPLICABLE}\n",
    "# task 3: {SPIKES, OTHER_ABNORMAL, NOT_APPLICABLE}\n",
    "# task 4: {SHARPS, OTHER_ABNORMAL, NOT_APPLICABLE}\n",
    "# task 5: {SUPPRESSION, OTHER_ABNORMAL, NOT_APPLICABLE}\n",
    "# task 6: {DISCONTINUITY, OTHER_ABNORMAL, NOT_APPLICABLE}\n",
    "# task 7: {HYPSAR, OTHER_ABNORMAL, NOT_APPLICABLE}\n",
    "# task 8:{MOTOR_SEIZURE, OTHER_ABNORMAL, NOT_APPLICABLE}\n",
    "# task 9: {HYPER_SEIZURE, OTHER_ABNORMAL, NOT_APPLICABLE}\n",
    "# task 10: {CLONIC_SEIZURE, OTHER_ABNORMAL, NOT_APPLICABLE}\n",
    "# task 11: {TONIC_SEIZURE, OTHER_ABNORMAL, NOT_APPLICABLE}\n",
    "\n",
    "# UNUSED:     \n",
    "    #lf_normal_interp_not_seizure,\n",
    "    #lf_findall_abnl_interp_without_seizure,   \n",
    "    #lf_seizure_section,\n",
    "    #lf_impression_section_negative,\n",
    "    #lf_impression_section_positive,\n",
    "    #lf_extreme_words_in_impression,\n",
    "\n",
    "lfs = [\n",
    "    [lf_abnormal_interp,\n",
    "    lf_findall_abnormal_interp,\n",
    "    lf_normal_interp],   \n",
    "    \n",
    "    \n",
    "    [lf_abnormal_interp_with_seizure,\n",
    "    lf_findall_interp_with_seizure,\n",
    "    lf_seizure_section],\n",
    "\n",
    "    \n",
    "    [lf_abnormal_interp_with_slowing,\n",
    "    lf_findall_interp_with_slowing,\n",
    "    lf_slowing_in_impression],\n",
    "    \n",
    "    [lf_abnormal_interp_with_spikes,\n",
    "    lf_findall_interp_with_spikes,\n",
    "    lf_spikes_in_impression],\n",
    "    \n",
    "    [lf_abnormal_interp_with_sharps,\n",
    "    lf_findall_interp_with_sharps,\n",
    "    lf_sharps_in_impression],\n",
    "    \n",
    "    [lf_abnormal_interp_with_suppression,\n",
    "    lf_findall_interp_with_suppression,\n",
    "    lf_suppression_in_impression],\n",
    "    \n",
    "    [lf_abnormal_interp_with_discont,\n",
    "    lf_findall_interp_with_discont,\n",
    "    lf_discont_in_impression],\n",
    "    \n",
    "    [lf_abnormal_interp_with_hypsarrhythmia,\n",
    "    lf_findall_interp_with_hypsarrhythmia,\n",
    "    lf_hypsarrhythmia_in_impression],\n",
    "    \n",
    "    [lf_seizure_motor,\n",
    "    lf_findall_seizure_motor,\n",
    "    lf_seizure_motor_in_sections],\n",
    "    \n",
    "    [lf_seizure_hyperkinetic,\n",
    "    lf_findall_seizure_hyperkinetic,\n",
    "    lf_seizure_hyperkinetic_in_sections],\n",
    "    \n",
    "    [lf_seizure_clonic,\n",
    "    lf_findall_seizure_clonic,\n",
    "    lf_seizure_clonic_in_sections],\n",
    "    \n",
    "    [lf_seizure_tonic,\n",
    "    lf_findall_seizure_tonic,\n",
    "    lf_seizure_tonic_in_sections]]\n",
    "\n",
    "NUM_TASKS = len(column_names)\n",
    "print(NUM_TASKS)"
   ]
  },
  {
   "cell_type": "code",
   "execution_count": 16,
   "metadata": {
    "scrolled": true
   },
   "outputs": [
    {
     "name": "stdout",
     "output_type": "stream",
     "text": [
      "Computing label matrices...\n",
      "[########################################] | 100% Completed |  1.6s\n",
      "[########################################] | 100% Completed |  0.6s\n",
      "[########################################] | 100% Completed |  1.4s\n",
      "[########################################] | 100% Completed |  5.2s\n",
      "[########################################] | 100% Completed |  1.0s\n",
      "[########################################] | 100% Completed |  2.1s\n",
      "[########################################] | 100% Completed |  1.0s\n",
      "[########################################] | 100% Completed |  1.0s\n",
      "[########################################] | 100% Completed |  7.7s\n",
      "[########################################] | 100% Completed |  1.2s\n",
      "[########################################] | 100% Completed |  1.2s\n",
      "[########################################] | 100% Completed |  1.1s\n",
      "[########################################] | 100% Completed |  0.1s\n",
      "[########################################] | 100% Completed |  0.1s\n",
      "[########################################] | 100% Completed |  0.1s\n",
      "[########################################] | 100% Completed |  0.1s\n",
      "[########################################] | 100% Completed |  0.1s\n",
      "[########################################] | 100% Completed |  0.1s\n",
      "[########################################] | 100% Completed |  0.1s\n",
      "[########################################] | 100% Completed |  0.1s\n",
      "[########################################] | 100% Completed |  0.2s\n",
      "[########################################] | 100% Completed |  0.1s\n",
      "[########################################] | 100% Completed |  0.1s\n",
      "[########################################] | 100% Completed |  0.1s\n",
      "[########################################] | 100% Completed |  0.1s\n",
      "[########################################] | 100% Completed |  0.1s\n",
      "[########################################] | 100% Completed |  0.1s\n",
      "[########################################] | 100% Completed |  0.1s\n",
      "[########################################] | 100% Completed |  0.1s\n",
      "[########################################] | 100% Completed |  0.1s\n",
      "[########################################] | 100% Completed |  0.1s\n",
      "[########################################] | 100% Completed |  0.1s\n",
      "[########################################] | 100% Completed |  0.3s\n",
      "[########################################] | 100% Completed |  0.1s\n",
      "[########################################] | 100% Completed |  0.1s\n",
      "[########################################] | 100% Completed |  0.1s\n",
      "Creating label vectors...\n"
     ]
    }
   ],
   "source": [
    "from scipy.sparse import csr_matrix\n",
    "import dask\n",
    "from dask.diagnostics import ProgressBar\n",
    "from eeg_utils import evaluate_lf_on_docs, create_label_matrix\n",
    "import pickle\n",
    "\n",
    "# Resetting LFs\n",
    "clobber_lfs = True\n",
    "Ls_file = 'Ls_0p3.pkl'\n",
    "Ys_file = 'Ys_0p3.pkl'\n",
    "\n",
    "# Get lf names\n",
    "#lf_names = [lf.__name__ for lf in lfs]\n",
    "lf_names = [[lf.__name__ for lf in curr_lfs] for curr_lfs in lfs]\n",
    "\n",
    "# Loading Ls if they exist\n",
    "\n",
    "Ls = [] # Ls is a t-dim list of (n,m) sparse matrices\n",
    "Ys = [] # Ys is a t-dim list of (n,) ground truth labels\n",
    "if clobber_lfs or (not os.path.exists(Ls_file)):\n",
    "    print('Computing label matrices...')\n",
    "    for i, docs in enumerate([train_docs, dev_docs, test_docs]):\n",
    "        split_Ls = []\n",
    "        for j in range(NUM_TASKS):\n",
    "            curr_Ls = create_label_matrix(lfs[j],docs)\n",
    "            split_Ls.append(curr_Ls)\n",
    "        #for j in range(NUM_TASKS):           \n",
    "        #    split_Ls.append(curr_Ls)\n",
    "        Ls.append(split_Ls)\n",
    "            \n",
    "    with open(Ls_file,'wb') as af:\n",
    "        pickle.dump(Ls, af)\n",
    "    \n",
    "else:\n",
    "    print('Loading pre-computed label matrices...')\n",
    "    with open(Ls_file,'rb') as af:\n",
    "        Ls=pickle.load(af) \n",
    "    \n",
    "# Create Ys\n",
    "print('Creating label vectors...')\n",
    "Ys = [[],Y_dev, Y_test]\n",
    "with open(Ys_file,'wb') as af:\n",
    "    pickle.dump(Ys, af)"
   ]
  },
  {
   "cell_type": "code",
   "execution_count": 17,
   "metadata": {},
   "outputs": [
    {
     "name": "stdout",
     "output_type": "stream",
     "text": [
      "L_dev task 0 shape: (262, 3)\n",
      "Y_dev task 0 shape: (262,)\n",
      "L_dev task 1 shape: (262, 3)\n",
      "Y_dev task 1 shape: (262,)\n",
      "L_dev task 2 shape: (262, 3)\n",
      "Y_dev task 2 shape: (262,)\n",
      "L_dev task 3 shape: (262, 3)\n",
      "Y_dev task 3 shape: (262,)\n",
      "L_dev task 4 shape: (262, 3)\n",
      "Y_dev task 4 shape: (262,)\n",
      "L_dev task 5 shape: (262, 3)\n",
      "Y_dev task 5 shape: (262,)\n",
      "L_dev task 6 shape: (262, 3)\n",
      "Y_dev task 6 shape: (262,)\n",
      "L_dev task 7 shape: (262, 3)\n",
      "Y_dev task 7 shape: (262,)\n",
      "L_dev task 8 shape: (262, 3)\n",
      "Y_dev task 8 shape: (262,)\n",
      "L_dev task 9 shape: (262, 3)\n",
      "Y_dev task 9 shape: (262,)\n",
      "L_dev task 10 shape: (262, 3)\n",
      "Y_dev task 10 shape: (262,)\n",
      "L_dev task 11 shape: (262, 3)\n",
      "Y_dev task 11 shape: (262,)\n"
     ]
    }
   ],
   "source": [
    "# Check Ls shape\n",
    "L_train = Ls[0]\n",
    "L_dev = Ls[1]\n",
    "Y_dev = Ys[1]\n",
    "for j in range(len(L_dev)):\n",
    "    print('L_dev task {} shape: {}'.format(j, L_dev[j].shape))\n",
    "    print('Y_dev task {} shape: {}'.format(j, Y_dev[j].shape))\n"
   ]
  },
  {
   "cell_type": "code",
   "execution_count": 18,
   "metadata": {},
   "outputs": [
    {
     "name": "stdout",
     "output_type": "stream",
     "text": [
      "Majority Label Voter Metrics for Class 0:\n",
      "(262, 3)\n",
      "(262,)\n",
      "Accuracy: 0.973\n",
      "Precision: 0.981\n",
      "Recall: 0.975\n",
      "F1: 0.978\n",
      "        y=1    y=2   \n",
      " l=1    156     3    \n",
      " l=2     4     99    \n",
      "Majority Label Voter Metrics for Class 1:\n",
      "(262, 3)\n",
      "(262,)\n",
      "Accuracy: 0.805\n",
      "Precision: 0.506\n",
      "Recall: 0.865\n",
      "F1: 0.638\n",
      "        y=1    y=2   \n",
      " l=1    45     44    \n",
      " l=2     7     166   \n",
      "Majority Label Voter Metrics for Class 2:\n",
      "(262, 3)\n",
      "(262,)\n",
      "Accuracy: 0.966\n",
      "Precision: 0.933\n",
      "Recall: 0.966\n",
      "F1: 0.949\n",
      "        y=1    y=2   \n",
      " l=1    84      6    \n",
      " l=2     3     169   \n",
      "Majority Label Voter Metrics for Class 3:\n",
      "(262, 3)\n",
      "(262,)\n",
      "Accuracy: 0.939\n",
      "Precision: 0.926\n",
      "Recall: 0.806\n",
      "F1: 0.862\n",
      "        y=1    y=2   \n",
      " l=1    50      4    \n",
      " l=2    12     196   \n",
      "Majority Label Voter Metrics for Class 4:\n",
      "(262, 3)\n",
      "(262,)\n",
      "Accuracy: 0.981\n",
      "Precision: 0.903\n",
      "Recall: 0.933\n",
      "F1: 0.918\n",
      "        y=1    y=2   \n",
      " l=1    28      3    \n",
      " l=2     2     229   \n",
      "Majority Label Voter Metrics for Class 5:\n",
      "(262, 3)\n",
      "(262,)\n",
      "Accuracy: 1.000\n",
      "Precision: 1.000\n",
      "Recall: 1.000\n",
      "F1: 1.000\n",
      "        y=1    y=2   \n",
      " l=1     8      0    \n",
      " l=2     0     254   \n",
      "Majority Label Voter Metrics for Class 6:\n",
      "(262, 3)\n",
      "(262,)\n",
      "Accuracy: 0.985\n",
      "Precision: 0.875\n",
      "Recall: 0.875\n",
      "F1: 0.875\n",
      "        y=1    y=2   \n",
      " l=1    14      2    \n",
      " l=2     2     244   \n",
      "Majority Label Voter Metrics for Class 7:\n",
      "(262, 3)\n",
      "(262,)\n",
      "Accuracy: 0.989\n",
      "Precision: 1.000\n",
      "Recall: 0.500\n",
      "F1: 0.667\n",
      "        y=1    y=2   \n",
      " l=1     3      0    \n",
      " l=2     3     256   \n",
      "Majority Label Voter Metrics for Class 8:\n",
      "(262, 3)\n",
      "(262,)\n",
      "Accuracy: 0.966\n",
      "Precision: 0.588\n",
      "Recall: 0.833\n",
      "F1: 0.690\n",
      "        y=1    y=2   \n",
      " l=1    10      7    \n",
      " l=2     2     243   \n",
      "Majority Label Voter Metrics for Class 9:\n",
      "(262, 3)\n",
      "(262,)\n",
      "Accuracy: 1.000\n",
      "Precision: 1.000\n",
      "Recall: 1.000\n",
      "F1: 1.000\n",
      "        y=1    y=2   \n",
      " l=1     5      0    \n",
      " l=2     0     257   \n",
      "Majority Label Voter Metrics for Class 10:\n",
      "(262, 3)\n",
      "(262,)\n",
      "Accuracy: 0.996\n",
      "Precision: 1.000\n",
      "Recall: 0.500\n",
      "F1: 0.667\n",
      "        y=1    y=2   \n",
      " l=1     1      0    \n",
      " l=2     1     260   \n",
      "Majority Label Voter Metrics for Class 11:\n",
      "(262, 3)\n",
      "(262,)\n",
      "Accuracy: 0.992\n",
      "Precision: 0.500\n",
      "Recall: 0.500\n",
      "F1: 0.500\n",
      "        y=1    y=2   \n",
      " l=1     1      1    \n",
      " l=2     1     259   \n"
     ]
    }
   ],
   "source": [
    "# Majority vote for each class\n",
    "from metal.label_model.baselines import MajorityLabelVoter\n",
    "\n",
    "mv = MajorityLabelVoter(seed=123)\n",
    "#scores = mv.score((Ls[1][0], Ys[1][0]), metric=['accuracy','precision', 'recall', 'f1'])\n",
    "\n",
    "for task_idx in range(NUM_TASKS):\n",
    "    print('Majority Label Voter Metrics for Class {}:'.format(task_idx))\n",
    "    print(Ls[1][task_idx].shape)\n",
    "    print(Ys[1][task_idx].shape)\n",
    "    scores = mv.score((Ls[1][task_idx], Ys[1][task_idx]), metric=['accuracy','precision', 'recall', 'f1'])"
   ]
  },
  {
   "cell_type": "code",
   "execution_count": 26,
   "metadata": {},
   "outputs": [
    {
     "name": "stdout",
     "output_type": "stream",
     "text": [
      "12\n",
      "(262,)\n"
     ]
    }
   ],
   "source": [
    "Y_dev = Ys[1]\n",
    "Y_test = Ys[2]\n",
    "\n",
    "print(len(Y_dev))\n",
    "print(Y_dev[0].shape)"
   ]
  },
  {
   "cell_type": "code",
   "execution_count": 27,
   "metadata": {},
   "outputs": [
    {
     "name": "stdout",
     "output_type": "stream",
     "text": [
      "multiclass_label_seizure_hyperkinetic\n"
     ]
    },
    {
     "data": {
      "text/html": [
       "<div>\n",
       "<style scoped>\n",
       "    .dataframe tbody tr th:only-of-type {\n",
       "        vertical-align: middle;\n",
       "    }\n",
       "\n",
       "    .dataframe tbody tr th {\n",
       "        vertical-align: top;\n",
       "    }\n",
       "\n",
       "    .dataframe thead th {\n",
       "        text-align: right;\n",
       "    }\n",
       "</style>\n",
       "<table border=\"1\" class=\"dataframe\">\n",
       "  <thead>\n",
       "    <tr style=\"text-align: right;\">\n",
       "      <th></th>\n",
       "      <th>j</th>\n",
       "      <th>Polarity</th>\n",
       "      <th>Coverage</th>\n",
       "      <th>Overlaps</th>\n",
       "      <th>Conflicts</th>\n",
       "      <th>Correct</th>\n",
       "      <th>Incorrect</th>\n",
       "      <th>Emp. Acc.</th>\n",
       "    </tr>\n",
       "  </thead>\n",
       "  <tbody>\n",
       "    <tr>\n",
       "      <th>lf_seizure_hyperkinetic</th>\n",
       "      <td>0</td>\n",
       "      <td>[1, 2]</td>\n",
       "      <td>0.904580</td>\n",
       "      <td>0.904580</td>\n",
       "      <td>0.003817</td>\n",
       "      <td>237</td>\n",
       "      <td>0</td>\n",
       "      <td>1.000000</td>\n",
       "    </tr>\n",
       "    <tr>\n",
       "      <th>lf_findall_seizure_hyperkinetic</th>\n",
       "      <td>1</td>\n",
       "      <td>[1, 2]</td>\n",
       "      <td>0.996183</td>\n",
       "      <td>0.996183</td>\n",
       "      <td>0.003817</td>\n",
       "      <td>261</td>\n",
       "      <td>0</td>\n",
       "      <td>1.000000</td>\n",
       "    </tr>\n",
       "    <tr>\n",
       "      <th>lf_seizure_hyperkinetic_in_sections</th>\n",
       "      <td>2</td>\n",
       "      <td>[1, 2]</td>\n",
       "      <td>0.996183</td>\n",
       "      <td>0.996183</td>\n",
       "      <td>0.003817</td>\n",
       "      <td>260</td>\n",
       "      <td>1</td>\n",
       "      <td>0.996169</td>\n",
       "    </tr>\n",
       "  </tbody>\n",
       "</table>\n",
       "</div>"
      ],
      "text/plain": [
       "                                     j Polarity  Coverage  Overlaps  \\\n",
       "lf_seizure_hyperkinetic              0   [1, 2]  0.904580  0.904580   \n",
       "lf_findall_seizure_hyperkinetic      1   [1, 2]  0.996183  0.996183   \n",
       "lf_seizure_hyperkinetic_in_sections  2   [1, 2]  0.996183  0.996183   \n",
       "\n",
       "                                     Conflicts  Correct  Incorrect  Emp. Acc.  \n",
       "lf_seizure_hyperkinetic               0.003817      237          0   1.000000  \n",
       "lf_findall_seizure_hyperkinetic       0.003817      261          0   1.000000  \n",
       "lf_seizure_hyperkinetic_in_sections   0.003817      260          1   0.996169  "
      ]
     },
     "execution_count": 27,
     "metadata": {},
     "output_type": "execute_result"
    }
   ],
   "source": [
    "from metal.analysis import lf_summary\n",
    "\n",
    "# Analyzing LF stats\n",
    "task_idx = 9\n",
    "print(column_names[task_idx])\n",
    "df_lf = lf_summary(Ls[1][task_idx], Y=Y_dev[task_idx], lf_names=lf_names[task_idx])\n",
    "df_lf"
   ]
  },
  {
   "cell_type": "code",
   "execution_count": 28,
   "metadata": {},
   "outputs": [
    {
     "data": {
      "image/png": "[encoded data removed]",
      "text/plain": [
       "<Figure size 432x288 with 2 Axes>"
      ]
     },
     "metadata": {
      "needs_background": "light"
     },
     "output_type": "display_data"
    },
    {
     "data": {
      "image/png": "[encoded data removed]",
      "text/plain": [
       "<Figure size 432x288 with 2 Axes>"
      ]
     },
     "metadata": {
      "needs_background": "light"
     },
     "output_type": "display_data"
    },
    {
     "data": {
      "image/png": "[encoded data removed]",
      "text/plain": [
       "<Figure size 432x288 with 2 Axes>"
      ]
     },
     "metadata": {
      "needs_background": "light"
     },
     "output_type": "display_data"
    },
    {
     "data": {
      "image/png": "[encoded data removed]",
      "text/plain": [
       "<Figure size 432x288 with 2 Axes>"
      ]
     },
     "metadata": {
      "needs_background": "light"
     },
     "output_type": "display_data"
    },
    {
     "data": {
      "image/png": "[encoded data removed]",
      "text/plain": [
       "<Figure size 432x288 with 2 Axes>"
      ]
     },
     "metadata": {
      "needs_background": "light"
     },
     "output_type": "display_data"
    },
    {
     "data": {
      "image/png": "[encoded data removed]",
      "text/plain": [
       "<Figure size 432x288 with 2 Axes>"
      ]
     },
     "metadata": {
      "needs_background": "light"
     },
     "output_type": "display_data"
    },
    {
     "data": {
      "image/png": "[encoded data removed]",
      "text/plain": [
       "<Figure size 432x288 with 2 Axes>"
      ]
     },
     "metadata": {
      "needs_background": "light"
     },
     "output_type": "display_data"
    },
    {
     "data": {
      "image/png": "[encoded data removed]",
      "text/plain": [
       "<Figure size 432x288 with 2 Axes>"
      ]
     },
     "metadata": {
      "needs_background": "light"
     },
     "output_type": "display_data"
    },
    {
     "data": {
      "image/png": "[encoded data removed]",
      "text/plain": [
       "<Figure size 432x288 with 2 Axes>"
      ]
     },
     "metadata": {
      "needs_background": "light"
     },
     "output_type": "display_data"
    },
    {
     "data": {
      "image/png": "[encoded data removed]",
      "text/plain": [
       "<Figure size 432x288 with 2 Axes>"
      ]
     },
     "metadata": {
      "needs_background": "light"
     },
     "output_type": "display_data"
    },
    {
     "data": {
      "image/png": "[encoded data removed]",
      "text/plain": [
       "<Figure size 432x288 with 2 Axes>"
      ]
     },
     "metadata": {
      "needs_background": "light"
     },
     "output_type": "display_data"
    },
    {
     "data": {
      "image/png": "[encoded data removed]",
      "text/plain": [
       "<Figure size 432x288 with 2 Axes>"
      ]
     },
     "metadata": {
      "needs_background": "light"
     },
     "output_type": "display_data"
    }
   ],
   "source": [
    "from metal.contrib.visualization.analysis import view_label_matrix, view_overlaps\n",
    "\n",
    "# Viewing label matrix\n",
    "for j in range(NUM_TASKS): \n",
    "    view_label_matrix(Ls[0][j])"
   ]
  },
  {
   "cell_type": "code",
   "execution_count": 19,
   "metadata": {},
   "outputs": [
    {
     "data": {
      "image/png": "[encoded data removed]",
      "text/plain": [
       "<Figure size 432x288 with 2 Axes>"
      ]
     },
     "metadata": {
      "needs_background": "light"
     },
     "output_type": "display_data"
    },
    {
     "data": {
      "image/png": "[encoded data removed]",
      "text/plain": [
       "<Figure size 432x288 with 2 Axes>"
      ]
     },
     "metadata": {
      "needs_background": "light"
     },
     "output_type": "display_data"
    },
    {
     "data": {
      "image/png": "[encoded data removed]",
      "text/plain": [
       "<Figure size 432x288 with 2 Axes>"
      ]
     },
     "metadata": {
      "needs_background": "light"
     },
     "output_type": "display_data"
    },
    {
     "data": {
      "image/png": "[encoded data removed]",
      "text/plain": [
       "<Figure size 432x288 with 2 Axes>"
      ]
     },
     "metadata": {
      "needs_background": "light"
     },
     "output_type": "display_data"
    },
    {
     "data": {
      "image/png": "[encoded data removed]",
      "text/plain": [
       "<Figure size 432x288 with 2 Axes>"
      ]
     },
     "metadata": {
      "needs_background": "light"
     },
     "output_type": "display_data"
    },
    {
     "data": {
      "image/png": "[encoded data removed]",
      "text/plain": [
       "<Figure size 432x288 with 2 Axes>"
      ]
     },
     "metadata": {
      "needs_background": "light"
     },
     "output_type": "display_data"
    },
    {
     "data": {
      "image/png": "[encoded data removed]",
      "text/plain": [
       "<Figure size 432x288 with 2 Axes>"
      ]
     },
     "metadata": {
      "needs_background": "light"
     },
     "output_type": "display_data"
    },
    {
     "data": {
      "image/png": "[encoded data removed]",
      "text/plain": [
       "<Figure size 432x288 with 2 Axes>"
      ]
     },
     "metadata": {
      "needs_background": "light"
     },
     "output_type": "display_data"
    },
    {
     "data": {
      "image/png": "[encoded data removed]",
      "text/plain": [
       "<Figure size 432x288 with 2 Axes>"
      ]
     },
     "metadata": {
      "needs_background": "light"
     },
     "output_type": "display_data"
    },
    {
     "data": {
      "image/png": "[encoded data removed]",
      "text/plain": [
       "<Figure size 432x288 with 2 Axes>"
      ]
     },
     "metadata": {
      "needs_background": "light"
     },
     "output_type": "display_data"
    },
    {
     "data": {
      "image/png": "[encoded data removed]",
      "text/plain": [
       "<Figure size 432x288 with 2 Axes>"
      ]
     },
     "metadata": {
      "needs_background": "light"
     },
     "output_type": "display_data"
    },
    {
     "data": {
      "image/png": "[encoded data removed]",
      "text/plain": [
       "<Figure size 432x288 with 2 Axes>"
      ]
     },
     "metadata": {
      "needs_background": "light"
     },
     "output_type": "display_data"
    }
   ],
   "source": [
    "from  metal.contrib.visualization.analysis import view_conflicts\n",
    "\n",
    "# Viewing conflicts\n",
    "for j in range(NUM_TASKS):\n",
    "    view_conflicts(Ls[1][j], normalize=True)"
   ]
  },
  {
   "cell_type": "code",
   "execution_count": 20,
   "metadata": {},
   "outputs": [
    {
     "name": "stdout",
     "output_type": "stream",
     "text": [
      "Cardinalties:[2, 2, 2, 2, 2, 2, 2, 2, 2, 2, 2, 2]\n"
     ]
    }
   ],
   "source": [
    "# Define task graph\n",
    "# Reference: https://github.com/HazyResearch/metal/blob/master/tutorials/Multitask.ipynb\n",
    "'''\n",
    "column_names = ['multiclass_label_abnormal', multiclass_label_seizure', 'multiclass_label_slowing', 'multiclass_label_spikes', \n",
    "               'multiclass_label_sharps', 'multiclass_label_suppression', 'multiclass_label_discont',\n",
    "               'multiclass_label_hypsar', 'multiclass_label_seizure_motor', 'multiclass_label_seizure_hyperkinetic',\n",
    "               'multiclass_label_seizure_clonic', 'multiclass_label_seizure_tonic']\n",
    "'''\n",
    "from metal.multitask.task_graph import TaskHierarchy\n",
    "\n",
    "# edges: which task is which task's parent?\n",
    "cardinalities = [2] + [2] * (NUM_TASKS-1)\n",
    "print('Cardinalties:{}'.format(cardinalities))\n",
    "\n",
    "edges = [(0,1), (0,2), (0,3), (0,4), (0,5), (0,6), \n",
    "         (0,7), (0,8), (0,9), (0,10), (0,11)] # task 0 is parent of all other tasks\n",
    "task_graph = TaskHierarchy(cardinalities=cardinalities, edges=edges)"
   ]
  },
  {
   "cell_type": "code",
   "execution_count": 26,
   "metadata": {},
   "outputs": [],
   "source": [
    "#from metal.utils import LogWriter\n",
    "from metal.tuners import RandomSearchTuner\n",
    "from metal.multitask import MTLabelModel\n",
    "\n",
    "# Creating metal label model\n",
    "#label_model = MTLabelModel(K=cardinalities, task_graph=task_graph)\n",
    "label_model = MTLabelModel(K=cardinalities, task_graph=None)"
   ]
  },
  {
   "cell_type": "code",
   "execution_count": 27,
   "metadata": {},
   "outputs": [
    {
     "name": "stdout",
     "output_type": "stream",
     "text": [
      "Computing O...\n",
      "Estimating \\mu...\n"
     ]
    },
    {
     "name": "stderr",
     "output_type": "stream",
     "text": [
      "Exception ignored in: <generator object tqdm_notebook.__iter__ at 0x149f97c50>\n",
      "Traceback (most recent call last):\n",
      "  File \"/Users/siyitang/.local/lib/python3.6/site-packages/tqdm/_tqdm_notebook.py\", line 226, in __iter__\n",
      "    self.sp(bar_style='danger')\n",
      "AttributeError: 'tqdm_notebook' object has no attribute 'sp'\n",
      "ERROR:root:Internal Python error in the inspect module.\n",
      "Below is the traceback from this internal error.\n",
      "\n"
     ]
    },
    {
     "name": "stdout",
     "output_type": "stream",
     "text": [
      "Traceback (most recent call last):\n",
      "  File \"/Users/siyitang/anaconda/envs/metal/lib/python3.6/site-packages/IPython/core/magics/execution.py\", line 1302, in time\n",
      "    out = eval(code, glob, local_ns)\n",
      "  File \"<timed eval>\", line 2, in <module>\n",
      "  File \"/Users/siyitang/Dropbox/Github/metal/metal/label_model/label_model.py\", line 446, in train_model\n",
      "    self._train_model(train_loader, partial(self.loss_mu, l2=l2))\n",
      "  File \"/Users/siyitang/Dropbox/Github/metal/metal/classifier.py\", line 241, in _train_model\n",
      "    loss = loss_fn(*data)\n",
      "  File \"/Users/siyitang/Dropbox/Github/metal/metal/label_model/label_model.py\", line 330, in loss_mu\n",
      "    return loss_1 + loss_2 + self.loss_l2(l2=l2)\n",
      "  File \"/Users/siyitang/Dropbox/Github/metal/metal/label_model/label_model.py\", line 312, in loss_l2\n",
      "    D = l2 * torch.eye(self.d)\n",
      "KeyboardInterrupt\n",
      "\n",
      "During handling of the above exception, another exception occurred:\n",
      "\n",
      "Traceback (most recent call last):\n",
      "  File \"/Users/siyitang/anaconda/envs/metal/lib/python3.6/site-packages/IPython/core/interactiveshell.py\", line 2039, in showtraceback\n",
      "    stb = value._render_traceback_()\n",
      "AttributeError: 'KeyboardInterrupt' object has no attribute '_render_traceback_'\n",
      "\n",
      "During handling of the above exception, another exception occurred:\n",
      "\n",
      "Traceback (most recent call last):\n",
      "  File \"/Users/siyitang/anaconda/envs/metal/lib/python3.6/site-packages/IPython/core/ultratb.py\", line 1101, in get_records\n",
      "    return _fixed_getinnerframes(etb, number_of_lines_of_context, tb_offset)\n",
      "  File \"/Users/siyitang/anaconda/envs/metal/lib/python3.6/site-packages/IPython/core/ultratb.py\", line 319, in wrapped\n",
      "    return f(*args, **kwargs)\n",
      "  File \"/Users/siyitang/anaconda/envs/metal/lib/python3.6/site-packages/IPython/core/ultratb.py\", line 353, in _fixed_getinnerframes\n",
      "    records = fix_frame_records_filenames(inspect.getinnerframes(etb, context))\n",
      "  File \"/Users/siyitang/anaconda/envs/metal/lib/python3.6/inspect.py\", line 1488, in getinnerframes\n",
      "    frameinfo = (tb.tb_frame,) + getframeinfo(tb, context)\n",
      "  File \"/Users/siyitang/anaconda/envs/metal/lib/python3.6/inspect.py\", line 1446, in getframeinfo\n",
      "    filename = getsourcefile(frame) or getfile(frame)\n",
      "  File \"/Users/siyitang/anaconda/envs/metal/lib/python3.6/inspect.py\", line 696, in getsourcefile\n",
      "    if getattr(getmodule(object, filename), '__loader__', None) is not None:\n",
      "  File \"/Users/siyitang/anaconda/envs/metal/lib/python3.6/inspect.py\", line 733, in getmodule\n",
      "    if ismodule(module) and hasattr(module, '__file__'):\n",
      "KeyboardInterrupt\n"
     ]
    },
    {
     "ename": "KeyboardInterrupt",
     "evalue": "",
     "output_type": "error",
     "traceback": [
      "\u001b[0;31m---------------------------------------------------------------------------\u001b[0m"
     ]
    }
   ],
   "source": [
    "%%time\n",
    "# Training label model\n",
    "label_model.train_model(Ls[0], n_epochs=200, log_train_every=20, seed=123)"
   ]
  },
  {
   "cell_type": "code",
   "execution_count": 32,
   "metadata": {},
   "outputs": [
    {
     "name": "stdout",
     "output_type": "stream",
     "text": [
      "L dev length:12\n",
      "L test length:12\n",
      "L dev task 0 shape:(262, 3)\n",
      "L test task 0 shape:(263, 3)\n",
      "Y dev task 0 shape:(262,)\n",
      "Y test task 0 shape:(263,)\n"
     ]
    }
   ],
   "source": [
    "print('L dev length:{}'.format(len(Ls[1])))\n",
    "print('L test length:{}'.format(len(Ls[2])))\n",
    "\n",
    "print('L dev task 0 shape:{}'.format(Ls[1][0].shape))\n",
    "print('L test task 0 shape:{}'.format(Ls[2][0].shape))\n",
    "\n",
    "print('Y dev task 0 shape:{}'.format(Ys[1][0].shape))\n",
    "print('Y test task 0 shape:{}'.format(Ys[2][0].shape))"
   ]
  },
  {
   "cell_type": "code",
   "execution_count": 24,
   "metadata": {},
   "outputs": [
    {
     "name": "stdout",
     "output_type": "stream",
     "text": [
      "--Return--\n",
      "None\n",
      "> \u001b[0;32m<ipython-input-24-aaad3ce07781>\u001b[0m(1)\u001b[0;36m<module>\u001b[0;34m()\u001b[0m\n",
      "\u001b[0;32m----> 1 \u001b[0;31m\u001b[0;32mimport\u001b[0m \u001b[0mipdb\u001b[0m\u001b[0;34m;\u001b[0m \u001b[0mipdb\u001b[0m\u001b[0;34m.\u001b[0m\u001b[0mset_trace\u001b[0m\u001b[0;34m(\u001b[0m\u001b[0;34m)\u001b[0m\u001b[0;34m\u001b[0m\u001b[0;34m\u001b[0m\u001b[0m\n",
      "\u001b[0m\u001b[0;32m      2 \u001b[0;31m\u001b[0;34m\u001b[0m\u001b[0m\n",
      "\u001b[0m\u001b[0;32m      3 \u001b[0;31m\u001b[0mlabel_model\u001b[0m\u001b[0;34m.\u001b[0m\u001b[0mscore\u001b[0m\u001b[0;34m(\u001b[0m\u001b[0;34m(\u001b[0m\u001b[0mLs\u001b[0m\u001b[0;34m[\u001b[0m\u001b[0;36m1\u001b[0m\u001b[0;34m]\u001b[0m\u001b[0;34m,\u001b[0m \u001b[0mYs\u001b[0m\u001b[0;34m[\u001b[0m\u001b[0;36m1\u001b[0m\u001b[0;34m]\u001b[0m\u001b[0;34m)\u001b[0m\u001b[0;34m)\u001b[0m\u001b[0;34m\u001b[0m\u001b[0;34m\u001b[0m\u001b[0m\n",
      "\u001b[0m\n",
      "ipdb> Ls[1]\n",
      "[<262x3 sparse matrix of type '<class 'numpy.int64'>'\n",
      "\twith 581 stored elements in Compressed Sparse Row format>, <262x3 sparse matrix of type '<class 'numpy.int64'>'\n",
      "\twith 608 stored elements in Compressed Sparse Row format>, <262x3 sparse matrix of type '<class 'numpy.int64'>'\n",
      "\twith 595 stored elements in Compressed Sparse Row format>, <262x3 sparse matrix of type '<class 'numpy.int64'>'\n",
      "\twith 556 stored elements in Compressed Sparse Row format>, <262x3 sparse matrix of type '<class 'numpy.int64'>'\n",
      "\twith 533 stored elements in Compressed Sparse Row format>, <262x3 sparse matrix of type '<class 'numpy.int64'>'\n",
      "\twith 502 stored elements in Compressed Sparse Row format>, <262x3 sparse matrix of type '<class 'numpy.int64'>'\n",
      "\twith 509 stored elements in Compressed Sparse Row format>, <262x3 sparse matrix of type '<class 'numpy.int64'>'\n",
      "\twith 499 stored elements in Compressed Sparse Row format>, <262x3 sparse matrix of type '<class 'numpy.int64'>'\n",
      "\twith 755 stored elements in Compressed Sparse Row format>, <262x3 sparse matrix of type '<class 'numpy.int64'>'\n",
      "\twith 755 stored elements in Compressed Sparse Row format>, <262x3 sparse matrix of type '<class 'numpy.int64'>'\n",
      "\twith 755 stored elements in Compressed Sparse Row format>, <262x3 sparse matrix of type '<class 'numpy.int64'>'\n",
      "\twith 755 stored elements in Compressed Sparse Row format>]\n",
      "ipdb> Ys[1]\n",
      "[array([1., 1., 2., 2., 2., 1., 2., 1., 2., 1., 1., 2., 1., 1., 1., 1., 2.,\n",
      "       2., 1., 2., 1., 1., 1., 1., 2., 1., 1., 1., 1., 1., 1., 1., 2., 1.,\n",
      "       1., 1., 2., 1., 1., 1., 2., 1., 2., 1., 1., 2., 2., 2., 1., 1., 1.,\n",
      "       1., 1., 1., 1., 1., 2., 2., 1., 2., 2., 2., 1., 2., 2., 1., 2., 1.,\n",
      "       2., 1., 1., 2., 2., 2., 1., 1., 1., 2., 2., 1., 1., 1., 1., 2., 1.,\n",
      "       1., 2., 2., 1., 1., 1., 1., 2., 1., 1., 2., 2., 2., 2., 2., 1., 1.,\n",
      "       1., 1., 2., 1., 1., 1., 2., 1., 1., 1., 2., 2., 1., 1., 1., 1., 2.,\n",
      "       1., 2., 1., 1., 2., 1., 1., 2., 1., 1., 1., 2., 1., 2., 1., 2., 1.,\n",
      "       1., 1., 2., 2., 1., 1., 1., 2., 2., 2., 2., 1., 1., 1., 1., 2., 2.,\n",
      "       1., 2., 1., 1., 2., 2., 1., 1., 1., 1., 1., 2., 2., 1., 1., 2., 1.,\n",
      "       1., 2., 1., 2., 2., 1., 1., 1., 1., 1., 1., 1., 2., 2., 2., 2., 2.,\n",
      "       1., 1., 1., 1., 1., 1., 2., 1., 1., 1., 1., 1., 1., 1., 1., 1., 2.,\n",
      "       1., 1., 2., 1., 1., 1., 1., 1., 1., 2., 1., 1., 2., 2., 1., 2., 2.,\n",
      "       2., 1., 2., 2., 2., 2., 2., 2., 2., 2., 2., 1., 1., 2., 1., 2., 1.,\n",
      "       2., 1., 1., 2., 1., 1., 1., 1., 2., 1., 1., 2., 2., 1., 1., 2., 1.,\n",
      "       1., 2., 1., 2., 1., 1., 2.]), array([2., 2., 2., 2., 2., 1., 2., 2., 2., 2., 1., 2., 2., 2., 2., 2., 2.,\n",
      "       2., 1., 2., 2., 2., 2., 2., 2., 2., 1., 2., 2., 2., 2., 2., 2., 1.,\n",
      "       1., 2., 2., 2., 2., 1., 2., 2., 2., 2., 1., 2., 2., 2., 2., 1., 1.,\n",
      "       1., 2., 2., 2., 2., 2., 2., 1., 2., 2., 2., 2., 2., 2., 2., 2., 2.,\n",
      "       2., 2., 2., 2., 2., 2., 2., 2., 2., 2., 2., 2., 1., 2., 2., 2., 2.,\n",
      "       2., 2., 2., 2., 1., 1., 2., 2., 2., 1., 2., 2., 2., 2., 2., 1., 1.,\n",
      "       2., 2., 2., 1., 2., 2., 2., 2., 2., 1., 2., 2., 1., 2., 2., 2., 2.,\n",
      "       2., 2., 1., 1., 2., 1., 2., 2., 1., 2., 2., 2., 2., 2., 2., 2., 2.,\n",
      "       2., 1., 2., 2., 2., 2., 2., 2., 2., 2., 2., 1., 2., 1., 1., 2., 2.,\n",
      "       1., 2., 2., 2., 2., 2., 2., 1., 2., 2., 2., 2., 2., 2., 2., 2., 2.,\n",
      "       1., 2., 2., 2., 2., 2., 1., 2., 2., 2., 1., 2., 2., 2., 2., 2., 2.,\n",
      "       2., 2., 2., 2., 2., 1., 2., 2., 2., 1., 2., 2., 2., 2., 2., 1., 2.,\n",
      "       2., 2., 2., 2., 2., 1., 2., 1., 2., 2., 2., 1., 2., 2., 2., 2., 2.,\n",
      "       2., 2., 2., 2., 2., 2., 2., 2., 2., 2., 2., 1., 2., 2., 1., 2., 1.,\n",
      "       2., 1., 1., 2., 2., 2., 1., 1., 2., 1., 2., 2., 2., 2., 1., 2., 2.,\n",
      "       2., 2., 1., 2., 1., 1., 2.]), array([1., 2., 2., 2., 2., 1., 2., 1., 2., 1., 2., 2., 2., 2., 1., 2., 2.,\n",
      "       2., 2., 2., 1., 2., 1., 1., 2., 2., 1., 1., 2., 1., 1., 2., 2., 1.,\n",
      "       1., 2., 2., 2., 1., 1., 2., 1., 2., 2., 1., 2., 2., 2., 2., 2., 1.,\n",
      "       2., 1., 1., 1., 2., 2., 2., 1., 2., 2., 2., 1., 2., 2., 2., 2., 1.,\n",
      "       2., 1., 2., 2., 2., 2., 1., 1., 2., 2., 2., 2., 2., 2., 1., 2., 1.,\n",
      "       2., 2., 2., 1., 2., 1., 1., 2., 1., 1., 2., 2., 2., 2., 2., 1., 2.,\n",
      "       1., 1., 2., 2., 1., 2., 2., 1., 1., 2., 2., 2., 2., 2., 2., 1., 2.,\n",
      "       1., 2., 1., 2., 2., 2., 2., 2., 2., 1., 2., 2., 1., 2., 1., 2., 1.,\n",
      "       1., 1., 2., 2., 1., 1., 1., 2., 2., 2., 2., 2., 1., 1., 2., 2., 2.,\n",
      "       2., 2., 2., 1., 2., 2., 1., 2., 1., 2., 1., 2., 2., 2., 2., 2., 2.,\n",
      "       2., 2., 2., 2., 2., 1., 2., 1., 2., 1., 1., 2., 2., 2., 2., 2., 2.,\n",
      "       1., 1., 2., 2., 1., 1., 2., 1., 1., 2., 1., 2., 1., 2., 2., 2., 2.,\n",
      "       2., 1., 2., 1., 1., 2., 1., 1., 1., 2., 2., 1., 2., 2., 1., 2., 2.,\n",
      "       2., 2., 2., 2., 2., 2., 2., 2., 2., 2., 2., 2., 2., 2., 2., 2., 2.,\n",
      "       2., 1., 1., 2., 1., 1., 2., 2., 2., 2., 1., 2., 2., 1., 1., 2., 1.,\n",
      "       2., 2., 2., 2., 2., 2., 2.]), array([2., 1., 2., 2., 2., 2., 2., 2., 2., 2., 1., 2., 1., 2., 2., 1., 2.,\n",
      "       2., 1., 2., 2., 1., 2., 2., 2., 1., 2., 2., 1., 1., 2., 2., 2., 2.,\n",
      "       2., 2., 2., 1., 2., 2., 2., 1., 2., 1., 2., 2., 2., 2., 1., 2., 1.,\n",
      "       1., 2., 2., 2., 1., 2., 2., 2., 2., 2., 2., 2., 2., 2., 2., 2., 1.,\n",
      "       2., 2., 2., 2., 2., 2., 1., 2., 2., 2., 2., 1., 1., 1., 2., 2., 1.,\n",
      "       1., 2., 2., 2., 1., 1., 2., 2., 2., 2., 2., 2., 2., 2., 2., 2., 1.,\n",
      "       1., 2., 2., 1., 2., 2., 2., 2., 2., 2., 2., 2., 1., 1., 1., 2., 2.,\n",
      "       2., 2., 2., 2., 2., 1., 2., 2., 1., 2., 2., 2., 2., 2., 1., 2., 2.,\n",
      "       1., 2., 2., 2., 2., 2., 2., 2., 2., 2., 2., 1., 2., 2., 2., 2., 2.,\n",
      "       2., 2., 1., 2., 2., 2., 2., 2., 2., 2., 2., 2., 2., 1., 1., 2., 1.,\n",
      "       1., 2., 1., 2., 2., 2., 1., 2., 1., 2., 1., 1., 2., 2., 2., 2., 2.,\n",
      "       2., 2., 2., 2., 2., 1., 2., 2., 1., 1., 2., 2., 2., 2., 1., 1., 2.,\n",
      "       2., 1., 2., 2., 2., 2., 2., 2., 2., 2., 1., 2., 2., 2., 1., 2., 2.,\n",
      "       2., 1., 2., 2., 2., 2., 2., 2., 2., 2., 2., 1., 2., 2., 1., 2., 1.,\n",
      "       2., 2., 2., 2., 2., 2., 1., 1., 2., 2., 2., 2., 2., 2., 2., 2., 2.,\n",
      "       2., 2., 2., 2., 1., 1., 2.]), array([2., 2., 2., 2., 2., 2., 2., 2., 2., 2., 2., 2., 2., 2., 2., 2., 2.,\n",
      "       2., 2., 2., 2., 2., 2., 2., 2., 2., 2., 2., 2., 2., 2., 1., 2., 1.,\n",
      "       1., 1., 2., 2., 2., 1., 2., 2., 2., 2., 2., 2., 2., 2., 2., 2., 2.,\n",
      "       2., 2., 2., 2., 2., 2., 2., 2., 2., 2., 2., 2., 2., 2., 1., 2., 2.,\n",
      "       2., 2., 1., 2., 2., 2., 1., 2., 1., 2., 2., 2., 2., 2., 2., 2., 2.,\n",
      "       2., 2., 2., 2., 2., 2., 2., 2., 2., 1., 2., 2., 2., 2., 2., 2., 2.,\n",
      "       2., 2., 2., 2., 2., 1., 2., 2., 2., 1., 2., 2., 2., 1., 2., 2., 2.,\n",
      "       2., 2., 2., 2., 2., 2., 2., 2., 2., 1., 1., 2., 2., 2., 2., 2., 2.,\n",
      "       2., 1., 2., 2., 2., 2., 2., 2., 2., 2., 2., 2., 2., 2., 1., 2., 2.,\n",
      "       1., 2., 2., 2., 2., 2., 2., 2., 2., 1., 2., 2., 2., 2., 2., 2., 2.,\n",
      "       2., 2., 1., 2., 2., 2., 2., 2., 2., 2., 2., 1., 2., 2., 2., 2., 2.,\n",
      "       2., 1., 1., 1., 2., 2., 2., 2., 2., 2., 2., 2., 2., 1., 2., 2., 2.,\n",
      "       1., 2., 2., 2., 2., 2., 1., 2., 2., 2., 2., 2., 2., 2., 2., 2., 2.,\n",
      "       2., 2., 2., 2., 2., 2., 2., 2., 2., 2., 2., 2., 1., 2., 2., 2., 2.,\n",
      "       2., 1., 2., 2., 2., 2., 2., 2., 2., 2., 2., 2., 2., 2., 2., 2., 2.,\n",
      "       2., 2., 2., 2., 2., 1., 2.]), array([2., 2., 2., 2., 2., 2., 2., 2., 2., 2., 2., 2., 2., 2., 2., 2., 2.,\n",
      "       2., 2., 2., 2., 2., 2., 2., 2., 2., 2., 2., 2., 2., 1., 2., 2., 2.,\n",
      "       2., 2., 2., 2., 2., 2., 2., 2., 2., 2., 2., 2., 2., 2., 2., 2., 2.,\n",
      "       2., 2., 2., 2., 2., 2., 2., 2., 2., 2., 2., 2., 2., 2., 2., 2., 2.,\n",
      "       2., 2., 2., 2., 2., 2., 2., 2., 2., 2., 2., 2., 2., 2., 2., 2., 2.,\n",
      "       2., 2., 2., 2., 2., 2., 2., 2., 2., 2., 2., 2., 2., 2., 2., 2., 2.,\n",
      "       2., 2., 2., 2., 2., 1., 2., 2., 2., 1., 2., 2., 2., 2., 2., 2., 2.,\n",
      "       2., 2., 1., 2., 2., 2., 1., 2., 2., 2., 2., 2., 2., 2., 2., 2., 2.,\n",
      "       2., 2., 2., 2., 2., 2., 2., 2., 2., 2., 2., 2., 2., 2., 1., 2., 2.,\n",
      "       2., 2., 2., 2., 2., 2., 2., 2., 2., 2., 2., 2., 2., 2., 2., 2., 2.,\n",
      "       2., 2., 2., 2., 2., 2., 2., 2., 2., 2., 2., 2., 2., 2., 2., 2., 2.,\n",
      "       2., 2., 2., 2., 2., 2., 2., 2., 2., 2., 2., 1., 2., 2., 2., 2., 2.,\n",
      "       2., 2., 2., 2., 2., 2., 2., 2., 2., 2., 2., 2., 2., 2., 2., 2., 2.,\n",
      "       2., 2., 2., 2., 2., 2., 2., 2., 2., 2., 2., 2., 2., 2., 2., 2., 2.,\n",
      "       2., 2., 2., 2., 2., 2., 2., 2., 2., 2., 2., 2., 2., 2., 2., 2., 2.,\n",
      "       2., 2., 1., 2., 2., 2., 2.]), array([2., 2., 2., 2., 2., 2., 2., 2., 2., 2., 2., 2., 2., 1., 2., 2., 2.,\n",
      "       2., 2., 2., 2., 2., 2., 2., 2., 2., 2., 2., 2., 2., 2., 2., 2., 2.,\n",
      "       2., 2., 2., 2., 2., 2., 2., 2., 2., 2., 2., 2., 2., 2., 2., 2., 2.,\n",
      "       2., 2., 2., 2., 2., 2., 2., 2., 2., 2., 2., 2., 2., 2., 1., 2., 2.,\n",
      "       2., 2., 1., 2., 2., 2., 2., 2., 2., 2., 2., 2., 1., 2., 2., 2., 2.,\n",
      "       2., 2., 2., 2., 2., 2., 2., 2., 1., 2., 2., 2., 2., 2., 2., 2., 2.,\n",
      "       2., 2., 2., 2., 2., 1., 2., 2., 2., 2., 2., 2., 2., 1., 2., 2., 2.,\n",
      "       2., 2., 2., 1., 2., 2., 2., 2., 2., 2., 2., 2., 2., 2., 2., 2., 2.,\n",
      "       2., 2., 2., 2., 2., 2., 2., 2., 2., 2., 2., 2., 2., 2., 2., 2., 2.,\n",
      "       1., 2., 2., 2., 2., 2., 2., 2., 2., 2., 2., 2., 2., 2., 2., 2., 2.,\n",
      "       2., 2., 2., 2., 2., 2., 2., 2., 2., 2., 2., 2., 2., 2., 2., 2., 2.,\n",
      "       2., 1., 1., 2., 2., 2., 2., 2., 2., 2., 2., 2., 2., 2., 2., 2., 2.,\n",
      "       2., 2., 2., 2., 2., 2., 2., 2., 2., 2., 2., 2., 2., 2., 2., 2., 2.,\n",
      "       2., 2., 2., 2., 2., 2., 2., 2., 2., 2., 2., 2., 1., 2., 2., 2., 2.,\n",
      "       2., 1., 2., 2., 2., 2., 2., 2., 2., 1., 2., 2., 2., 2., 2., 2., 2.,\n",
      "       1., 2., 1., 2., 2., 2., 2.]), array([2., 2., 2., 2., 2., 2., 2., 2., 2., 2., 2., 2., 2., 2., 2., 2., 2.,\n",
      "       2., 1., 2., 2., 2., 2., 2., 2., 2., 2., 2., 2., 2., 2., 2., 2., 2.,\n",
      "       2., 2., 2., 2., 2., 2., 2., 2., 2., 2., 2., 2., 2., 2., 2., 1., 2.,\n",
      "       2., 2., 2., 2., 2., 2., 2., 2., 2., 2., 2., 2., 2., 2., 2., 2., 2.,\n",
      "       2., 2., 2., 2., 2., 2., 2., 2., 2., 2., 2., 2., 1., 2., 2., 2., 2.,\n",
      "       2., 2., 2., 2., 2., 1., 2., 2., 2., 2., 2., 2., 2., 2., 2., 2., 2.,\n",
      "       2., 2., 2., 2., 2., 2., 2., 2., 2., 2., 2., 2., 2., 2., 2., 2., 2.,\n",
      "       2., 2., 2., 2., 2., 2., 2., 2., 2., 2., 2., 2., 2., 2., 2., 2., 2.,\n",
      "       2., 2., 2., 2., 2., 2., 2., 2., 2., 2., 2., 2., 2., 2., 2., 2., 2.,\n",
      "       2., 2., 2., 2., 2., 2., 2., 2., 2., 2., 2., 2., 2., 2., 2., 2., 2.,\n",
      "       2., 2., 2., 2., 2., 2., 2., 2., 2., 2., 2., 2., 2., 2., 2., 2., 2.,\n",
      "       2., 2., 2., 2., 2., 2., 2., 2., 2., 2., 2., 2., 2., 2., 2., 2., 2.,\n",
      "       2., 2., 2., 2., 2., 1., 2., 2., 2., 2., 2., 2., 2., 2., 2., 2., 2.,\n",
      "       2., 2., 2., 2., 2., 2., 2., 2., 2., 2., 2., 2., 2., 2., 2., 2., 1.,\n",
      "       2., 2., 2., 2., 2., 2., 2., 2., 2., 2., 2., 2., 2., 2., 2., 2., 2.,\n",
      "       2., 2., 2., 2., 2., 2., 2.]), array([2., 2., 2., 2., 2., 2., 2., 2., 2., 2., 2., 2., 2., 2., 2., 2., 2.,\n",
      "       2., 2., 2., 2., 2., 2., 2., 2., 2., 2., 2., 2., 2., 2., 2., 2., 2.,\n",
      "       2., 2., 2., 2., 2., 2., 2., 2., 2., 2., 2., 2., 2., 2., 2., 2., 2.,\n",
      "       2., 2., 2., 2., 2., 2., 2., 1., 2., 2., 2., 2., 2., 2., 2., 2., 2.,\n",
      "       2., 2., 2., 2., 2., 2., 2., 2., 2., 2., 2., 2., 1., 2., 2., 2., 2.,\n",
      "       2., 2., 2., 2., 1., 1., 2., 2., 2., 2., 2., 2., 2., 2., 2., 1., 2.,\n",
      "       2., 2., 2., 2., 2., 2., 2., 2., 2., 2., 2., 2., 2., 2., 2., 2., 2.,\n",
      "       2., 2., 2., 2., 2., 2., 2., 2., 2., 2., 2., 2., 2., 2., 2., 2., 2.,\n",
      "       2., 2., 2., 2., 2., 2., 2., 2., 2., 2., 2., 2., 2., 2., 2., 2., 2.,\n",
      "       2., 2., 2., 2., 2., 2., 2., 2., 2., 2., 2., 2., 2., 2., 2., 2., 2.,\n",
      "       2., 2., 2., 2., 2., 2., 2., 2., 2., 2., 2., 2., 2., 2., 2., 2., 2.,\n",
      "       2., 2., 2., 2., 2., 2., 2., 2., 2., 2., 2., 2., 2., 2., 2., 2., 2.,\n",
      "       2., 2., 2., 2., 2., 1., 2., 2., 2., 2., 2., 1., 2., 2., 2., 2., 2.,\n",
      "       2., 2., 2., 2., 2., 2., 2., 2., 2., 2., 2., 2., 2., 2., 2., 2., 1.,\n",
      "       2., 2., 2., 2., 2., 2., 2., 1., 2., 1., 2., 2., 2., 2., 2., 2., 2.,\n",
      "       2., 2., 1., 2., 2., 1., 2.]), array([2., 2., 2., 2., 2., 2., 2., 2., 2., 2., 2., 2., 2., 2., 2., 2., 2.,\n",
      "       2., 2., 2., 2., 2., 2., 2., 2., 2., 2., 2., 2., 2., 2., 2., 2., 1.,\n",
      "       1., 2., 2., 2., 2., 2., 2., 2., 2., 2., 2., 2., 2., 2., 2., 2., 2.,\n",
      "       2., 2., 2., 2., 2., 2., 2., 2., 2., 2., 2., 2., 2., 2., 2., 2., 2.,\n",
      "       2., 2., 2., 2., 2., 2., 2., 2., 2., 2., 2., 2., 2., 2., 2., 2., 2.,\n",
      "       2., 2., 2., 2., 2., 2., 2., 2., 2., 1., 2., 2., 2., 2., 2., 2., 2.,\n",
      "       2., 2., 2., 2., 2., 2., 2., 2., 2., 2., 2., 2., 2., 2., 2., 2., 2.,\n",
      "       2., 2., 2., 2., 2., 2., 2., 2., 2., 2., 2., 2., 2., 2., 2., 2., 2.,\n",
      "       2., 2., 2., 2., 2., 2., 2., 2., 2., 2., 2., 2., 2., 2., 2., 2., 2.,\n",
      "       2., 2., 2., 2., 2., 2., 2., 2., 2., 2., 2., 2., 2., 2., 2., 2., 2.,\n",
      "       2., 2., 2., 2., 2., 2., 2., 2., 2., 2., 1., 2., 2., 2., 2., 2., 2.,\n",
      "       2., 2., 2., 2., 2., 2., 2., 2., 2., 2., 2., 2., 2., 2., 2., 2., 2.,\n",
      "       2., 2., 2., 2., 2., 2., 2., 2., 2., 2., 2., 2., 2., 2., 2., 2., 2.,\n",
      "       2., 2., 2., 2., 2., 2., 2., 2., 2., 2., 2., 2., 2., 2., 2., 2., 2.,\n",
      "       2., 2., 2., 2., 2., 2., 2., 2., 2., 2., 2., 2., 2., 2., 1., 2., 2.,\n",
      "       2., 2., 2., 2., 2., 2., 2.]), array([2., 2., 2., 2., 2., 2., 2., 2., 2., 2., 2., 2., 2., 2., 2., 2., 2.,\n",
      "       2., 2., 2., 2., 2., 2., 2., 2., 2., 2., 2., 2., 2., 2., 2., 2., 2.,\n",
      "       2., 2., 2., 2., 2., 2., 2., 2., 2., 2., 2., 2., 2., 2., 2., 2., 2.,\n",
      "       2., 2., 2., 2., 2., 2., 2., 1., 2., 2., 2., 2., 2., 2., 2., 2., 2.,\n",
      "       2., 2., 2., 2., 2., 2., 2., 2., 2., 2., 2., 2., 2., 2., 2., 2., 2.,\n",
      "       2., 2., 2., 2., 2., 2., 2., 2., 2., 2., 2., 2., 2., 2., 2., 2., 2.,\n",
      "       2., 2., 2., 2., 2., 2., 2., 2., 2., 2., 2., 2., 2., 2., 2., 2., 2.,\n",
      "       2., 2., 2., 2., 2., 2., 2., 2., 2., 2., 2., 2., 2., 2., 2., 2., 2.,\n",
      "       2., 2., 2., 2., 2., 2., 2., 2., 2., 2., 2., 2., 2., 2., 2., 2., 2.,\n",
      "       2., 2., 2., 2., 2., 2., 2., 2., 2., 2., 2., 2., 2., 2., 2., 2., 2.,\n",
      "       2., 2., 2., 2., 2., 2., 2., 2., 2., 2., 2., 2., 2., 2., 2., 2., 2.,\n",
      "       2., 2., 2., 2., 2., 2., 2., 2., 2., 2., 2., 2., 2., 2., 2., 2., 2.,\n",
      "       2., 2., 2., 2., 2., 2., 2., 2., 2., 2., 2., 2., 2., 2., 2., 2., 2.,\n",
      "       2., 2., 2., 2., 2., 2., 2., 2., 2., 2., 2., 2., 2., 2., 2., 2., 2.,\n",
      "       2., 2., 2., 2., 2., 2., 2., 2., 2., 1., 2., 2., 2., 2., 2., 2., 2.,\n",
      "       2., 2., 2., 2., 2., 2., 2.]), array([2., 2., 2., 2., 2., 2., 2., 2., 2., 2., 2., 2., 2., 2., 2., 2., 2.,\n",
      "       2., 1., 2., 2., 2., 2., 2., 2., 2., 2., 2., 2., 2., 2., 2., 2., 2.,\n",
      "       2., 2., 2., 2., 2., 2., 2., 2., 2., 2., 2., 2., 2., 2., 2., 2., 2.,\n",
      "       2., 2., 2., 2., 2., 2., 2., 2., 2., 2., 2., 2., 2., 2., 2., 2., 2.,\n",
      "       2., 2., 2., 2., 2., 2., 2., 2., 2., 2., 2., 2., 2., 2., 2., 2., 2.,\n",
      "       2., 2., 2., 2., 2., 2., 2., 2., 2., 2., 2., 2., 2., 2., 2., 2., 2.,\n",
      "       2., 2., 2., 2., 2., 2., 2., 2., 2., 2., 2., 2., 2., 2., 2., 2., 2.,\n",
      "       2., 2., 2., 2., 2., 2., 2., 2., 2., 2., 2., 2., 2., 2., 2., 2., 2.,\n",
      "       2., 2., 2., 2., 2., 2., 2., 2., 2., 2., 2., 2., 2., 2., 2., 2., 2.,\n",
      "       2., 2., 2., 2., 2., 2., 2., 2., 2., 2., 2., 2., 2., 2., 2., 2., 2.,\n",
      "       2., 2., 2., 2., 2., 2., 2., 2., 2., 2., 2., 2., 2., 2., 2., 2., 2.,\n",
      "       2., 2., 2., 2., 2., 2., 2., 2., 2., 2., 2., 2., 2., 2., 2., 2., 2.,\n",
      "       2., 2., 2., 2., 2., 2., 2., 2., 2., 2., 2., 1., 2., 2., 2., 2., 2.,\n",
      "       2., 2., 2., 2., 2., 2., 2., 2., 2., 2., 2., 2., 2., 2., 2., 2., 2.,\n",
      "       2., 2., 2., 2., 2., 2., 2., 2., 2., 2., 2., 2., 2., 2., 2., 2., 2.,\n",
      "       2., 2., 2., 2., 2., 2., 2.])]\n"
     ]
    },
    {
     "name": "stdout",
     "output_type": "stream",
     "text": [
      "ipdb> c\n"
     ]
    },
    {
     "ename": "IndexError",
     "evalue": "index 2 is out of bounds for axis 1 with size 2",
     "output_type": "error",
     "traceback": [
      "\u001b[0;31m---------------------------------------------------------------------------\u001b[0m",
      "\u001b[0;31mIndexError\u001b[0m                                Traceback (most recent call last)",
      "\u001b[0;32m<ipython-input-24-aaad3ce07781>\u001b[0m in \u001b[0;36m<module>\u001b[0;34m\u001b[0m\n\u001b[1;32m      1\u001b[0m \u001b[0;32mimport\u001b[0m \u001b[0mipdb\u001b[0m\u001b[0;34m;\u001b[0m \u001b[0mipdb\u001b[0m\u001b[0;34m.\u001b[0m\u001b[0mset_trace\u001b[0m\u001b[0;34m(\u001b[0m\u001b[0;34m)\u001b[0m\u001b[0;34m\u001b[0m\u001b[0;34m\u001b[0m\u001b[0m\n\u001b[1;32m      2\u001b[0m \u001b[0;34m\u001b[0m\u001b[0m\n\u001b[0;32m----> 3\u001b[0;31m \u001b[0mlabel_model\u001b[0m\u001b[0;34m.\u001b[0m\u001b[0mscore\u001b[0m\u001b[0;34m(\u001b[0m\u001b[0;34m(\u001b[0m\u001b[0mLs\u001b[0m\u001b[0;34m[\u001b[0m\u001b[0;36m1\u001b[0m\u001b[0;34m]\u001b[0m\u001b[0;34m,\u001b[0m \u001b[0mYs\u001b[0m\u001b[0;34m[\u001b[0m\u001b[0;36m1\u001b[0m\u001b[0;34m]\u001b[0m\u001b[0;34m)\u001b[0m\u001b[0;34m)\u001b[0m\u001b[0;34m\u001b[0m\u001b[0;34m\u001b[0m\u001b[0m\n\u001b[0m",
      "\u001b[0;32m~/Dropbox/Github/metal/metal/multitask/mt_classifier.py\u001b[0m in \u001b[0;36mscore\u001b[0;34m(self, data, metric, validation_task, reduce, break_ties, verbose, print_confusion_matrix, **kwargs)\u001b[0m\n\u001b[1;32m    106\u001b[0m         \"\"\"\n\u001b[1;32m    107\u001b[0m         Y_p, Y, Y_s = self._get_predictions(\n\u001b[0;32m--> 108\u001b[0;31m             \u001b[0mdata\u001b[0m\u001b[0;34m,\u001b[0m \u001b[0mbreak_ties\u001b[0m\u001b[0;34m=\u001b[0m\u001b[0mbreak_ties\u001b[0m\u001b[0;34m,\u001b[0m \u001b[0mreturn_probs\u001b[0m\u001b[0;34m=\u001b[0m\u001b[0;32mTrue\u001b[0m\u001b[0;34m,\u001b[0m \u001b[0;34m**\u001b[0m\u001b[0mkwargs\u001b[0m\u001b[0;34m\u001b[0m\u001b[0;34m\u001b[0m\u001b[0m\n\u001b[0m\u001b[1;32m    109\u001b[0m         )\n\u001b[1;32m    110\u001b[0m \u001b[0;34m\u001b[0m\u001b[0m\n",
      "\u001b[0;32m~/Dropbox/Github/metal/metal/classifier.py\u001b[0m in \u001b[0;36m_get_predictions\u001b[0;34m(self, data, break_ties, return_probs, **kwargs)\u001b[0m\n\u001b[1;32m    593\u001b[0m             \u001b[0;31m# Append predictions and labels from DataLoader\u001b[0m\u001b[0;34m\u001b[0m\u001b[0;34m\u001b[0m\u001b[0;34m\u001b[0m\u001b[0m\n\u001b[1;32m    594\u001b[0m             Y_pb, Y_sb = self.predict(\n\u001b[0;32m--> 595\u001b[0;31m                 \u001b[0mXb\u001b[0m\u001b[0;34m,\u001b[0m \u001b[0mbreak_ties\u001b[0m\u001b[0;34m=\u001b[0m\u001b[0mbreak_ties\u001b[0m\u001b[0;34m,\u001b[0m \u001b[0mreturn_probs\u001b[0m\u001b[0;34m=\u001b[0m\u001b[0;32mTrue\u001b[0m\u001b[0;34m,\u001b[0m \u001b[0;34m**\u001b[0m\u001b[0mkwargs\u001b[0m\u001b[0;34m\u001b[0m\u001b[0;34m\u001b[0m\u001b[0m\n\u001b[0m\u001b[1;32m    596\u001b[0m             )\n\u001b[1;32m    597\u001b[0m             \u001b[0mY_p\u001b[0m\u001b[0;34m.\u001b[0m\u001b[0mappend\u001b[0m\u001b[0;34m(\u001b[0m\u001b[0mself\u001b[0m\u001b[0;34m.\u001b[0m\u001b[0m_to_numpy\u001b[0m\u001b[0;34m(\u001b[0m\u001b[0mY_pb\u001b[0m\u001b[0;34m)\u001b[0m\u001b[0;34m)\u001b[0m\u001b[0;34m\u001b[0m\u001b[0;34m\u001b[0m\u001b[0m\n",
      "\u001b[0;32m~/Dropbox/Github/metal/metal/multitask/mt_classifier.py\u001b[0m in \u001b[0;36mpredict\u001b[0;34m(self, X, break_ties, return_probs, **kwargs)\u001b[0m\n\u001b[1;32m     63\u001b[0m                 predicted probabilities]\n\u001b[1;32m     64\u001b[0m         \"\"\"\n\u001b[0;32m---> 65\u001b[0;31m         \u001b[0mY_s\u001b[0m \u001b[0;34m=\u001b[0m \u001b[0mself\u001b[0m\u001b[0;34m.\u001b[0m\u001b[0mpredict_proba\u001b[0m\u001b[0;34m(\u001b[0m\u001b[0mX\u001b[0m\u001b[0;34m,\u001b[0m \u001b[0;34m**\u001b[0m\u001b[0mkwargs\u001b[0m\u001b[0;34m)\u001b[0m\u001b[0;34m\u001b[0m\u001b[0;34m\u001b[0m\u001b[0m\n\u001b[0m\u001b[1;32m     66\u001b[0m         \u001b[0mself\u001b[0m\u001b[0;34m.\u001b[0m\u001b[0m_check\u001b[0m\u001b[0;34m(\u001b[0m\u001b[0mY_s\u001b[0m\u001b[0;34m,\u001b[0m \u001b[0mtyp\u001b[0m\u001b[0;34m=\u001b[0m\u001b[0mlist\u001b[0m\u001b[0;34m)\u001b[0m\u001b[0;34m\u001b[0m\u001b[0;34m\u001b[0m\u001b[0m\n\u001b[1;32m     67\u001b[0m         \u001b[0mself\u001b[0m\u001b[0;34m.\u001b[0m\u001b[0m_check\u001b[0m\u001b[0;34m(\u001b[0m\u001b[0mY_s\u001b[0m\u001b[0;34m[\u001b[0m\u001b[0;36m0\u001b[0m\u001b[0;34m]\u001b[0m\u001b[0;34m,\u001b[0m \u001b[0mtyp\u001b[0m\u001b[0;34m=\u001b[0m\u001b[0mnp\u001b[0m\u001b[0;34m.\u001b[0m\u001b[0mndarray\u001b[0m\u001b[0;34m)\u001b[0m\u001b[0;34m\u001b[0m\u001b[0;34m\u001b[0m\u001b[0m\n",
      "\u001b[0;32m~/Dropbox/Github/metal/metal/multitask/mt_label_model.py\u001b[0m in \u001b[0;36mpredict_proba\u001b[0;34m(self, L)\u001b[0m\n\u001b[1;32m    103\u001b[0m             \u001b[0;32mfor\u001b[0m \u001b[0mt\u001b[0m \u001b[0;32min\u001b[0m \u001b[0mrange\u001b[0m\u001b[0;34m(\u001b[0m\u001b[0mself\u001b[0m\u001b[0;34m.\u001b[0m\u001b[0mt\u001b[0m\u001b[0;34m)\u001b[0m\u001b[0;34m:\u001b[0m\u001b[0;34m\u001b[0m\u001b[0;34m\u001b[0m\u001b[0m\n\u001b[1;32m    104\u001b[0m                 \u001b[0mk_t\u001b[0m \u001b[0;34m=\u001b[0m \u001b[0mint\u001b[0m\u001b[0;34m(\u001b[0m\u001b[0my\u001b[0m\u001b[0;34m[\u001b[0m\u001b[0mt\u001b[0m\u001b[0;34m]\u001b[0m\u001b[0;34m)\u001b[0m\u001b[0;34m\u001b[0m\u001b[0;34m\u001b[0m\u001b[0m\n\u001b[0;32m--> 105\u001b[0;31m                 \u001b[0mY_p\u001b[0m\u001b[0;34m[\u001b[0m\u001b[0mt\u001b[0m\u001b[0;34m]\u001b[0m\u001b[0;34m[\u001b[0m\u001b[0;34m:\u001b[0m\u001b[0;34m,\u001b[0m \u001b[0mk_t\u001b[0m \u001b[0;34m-\u001b[0m \u001b[0;36m1\u001b[0m\u001b[0;34m]\u001b[0m \u001b[0;34m+=\u001b[0m \u001b[0mY_pf\u001b[0m\u001b[0;34m[\u001b[0m\u001b[0;34m:\u001b[0m\u001b[0;34m,\u001b[0m \u001b[0myi\u001b[0m\u001b[0;34m]\u001b[0m\u001b[0;34m\u001b[0m\u001b[0;34m\u001b[0m\u001b[0m\n\u001b[0m\u001b[1;32m    106\u001b[0m         \u001b[0;32mreturn\u001b[0m \u001b[0mY_p\u001b[0m\u001b[0;34m\u001b[0m\u001b[0;34m\u001b[0m\u001b[0m\n",
      "\u001b[0;31mIndexError\u001b[0m: index 2 is out of bounds for axis 1 with size 2"
     ]
    }
   ],
   "source": [
    "import ipdb; ipdb.set_trace()\n",
    "\n",
    "label_model.score((Ls[1], Ys[1]))"
   ]
  },
  {
   "cell_type": "code",
   "execution_count": null,
   "metadata": {},
   "outputs": [],
   "source": [
    "len(Ls[0])"
   ]
  },
  {
   "cell_type": "code",
   "execution_count": 25,
   "metadata": {},
   "outputs": [
    {
     "ename": "IndexError",
     "evalue": "index 2 is out of bounds for axis 1 with size 2",
     "output_type": "error",
     "traceback": [
      "\u001b[0;31m---------------------------------------------------------------------------\u001b[0m",
      "\u001b[0;31mIndexError\u001b[0m                                Traceback (most recent call last)",
      "\u001b[0;32m<ipython-input-25-cbd6769417e3>\u001b[0m in \u001b[0;36m<module>\u001b[0;34m\u001b[0m\n\u001b[0;32m----> 1\u001b[0;31m \u001b[0mY_train_ps\u001b[0m \u001b[0;34m=\u001b[0m \u001b[0mlabel_model\u001b[0m\u001b[0;34m.\u001b[0m\u001b[0mpredict_proba\u001b[0m\u001b[0;34m(\u001b[0m\u001b[0mLs\u001b[0m\u001b[0;34m[\u001b[0m\u001b[0;36m0\u001b[0m\u001b[0;34m]\u001b[0m\u001b[0;34m)\u001b[0m\u001b[0;34m\u001b[0m\u001b[0;34m\u001b[0m\u001b[0m\n\u001b[0m",
      "\u001b[0;32m~/Dropbox/Github/metal/metal/multitask/mt_label_model.py\u001b[0m in \u001b[0;36mpredict_proba\u001b[0;34m(self, L)\u001b[0m\n\u001b[1;32m    103\u001b[0m             \u001b[0;32mfor\u001b[0m \u001b[0mt\u001b[0m \u001b[0;32min\u001b[0m \u001b[0mrange\u001b[0m\u001b[0;34m(\u001b[0m\u001b[0mself\u001b[0m\u001b[0;34m.\u001b[0m\u001b[0mt\u001b[0m\u001b[0;34m)\u001b[0m\u001b[0;34m:\u001b[0m\u001b[0;34m\u001b[0m\u001b[0;34m\u001b[0m\u001b[0m\n\u001b[1;32m    104\u001b[0m                 \u001b[0mk_t\u001b[0m \u001b[0;34m=\u001b[0m \u001b[0mint\u001b[0m\u001b[0;34m(\u001b[0m\u001b[0my\u001b[0m\u001b[0;34m[\u001b[0m\u001b[0mt\u001b[0m\u001b[0;34m]\u001b[0m\u001b[0;34m)\u001b[0m\u001b[0;34m\u001b[0m\u001b[0;34m\u001b[0m\u001b[0m\n\u001b[0;32m--> 105\u001b[0;31m                 \u001b[0mY_p\u001b[0m\u001b[0;34m[\u001b[0m\u001b[0mt\u001b[0m\u001b[0;34m]\u001b[0m\u001b[0;34m[\u001b[0m\u001b[0;34m:\u001b[0m\u001b[0;34m,\u001b[0m \u001b[0mk_t\u001b[0m \u001b[0;34m-\u001b[0m \u001b[0;36m1\u001b[0m\u001b[0;34m]\u001b[0m \u001b[0;34m+=\u001b[0m \u001b[0mY_pf\u001b[0m\u001b[0;34m[\u001b[0m\u001b[0;34m:\u001b[0m\u001b[0;34m,\u001b[0m \u001b[0myi\u001b[0m\u001b[0;34m]\u001b[0m\u001b[0;34m\u001b[0m\u001b[0;34m\u001b[0m\u001b[0m\n\u001b[0m\u001b[1;32m    106\u001b[0m         \u001b[0;32mreturn\u001b[0m \u001b[0mY_p\u001b[0m\u001b[0;34m\u001b[0m\u001b[0;34m\u001b[0m\u001b[0m\n",
      "\u001b[0;31mIndexError\u001b[0m: index 2 is out of bounds for axis 1 with size 2"
     ]
    }
   ],
   "source": [
    "Y_train_ps = label_model.predict_proba(Ls[0])"
   ]
  },
  {
   "cell_type": "code",
   "execution_count": null,
   "metadata": {},
   "outputs": [],
   "source": [
    "label_model.score((Ls[1], Ys[1]))"
   ]
  },
  {
   "cell_type": "markdown",
   "metadata": {},
   "source": [
    "# Load trained label model"
   ]
  },
  {
   "cell_type": "code",
   "execution_count": null,
   "metadata": {},
   "outputs": [],
   "source": [
    "import pickle\n",
    "model_dir = '/home/tsy935/output/eeg_reports/label_model'\n",
    "Y_train_ps_dir = '/home/tsy935/output/eeg_reports/Y_train_ps'\n",
    "with open(Y_train_ps_dir, 'rb') as f:\n",
    "    Y_train_ps = pickle.load(f)\n",
    "\n",
    "print(len(Y_train_ps))\n",
    "print(Y_train_ps[0].shape)"
   ]
  },
  {
   "cell_type": "code",
   "execution_count": null,
   "metadata": {},
   "outputs": [],
   "source": [
    "# Getting probabilistic training labels\n",
    "# Y_train_ps stands for \"Y[labels]_train[split]_p[redicted]s[oft]\"\n",
    "Y_train_ps = label_model.predict_proba(Ls[0])\n",
    "Y_dev_ps = label_model.predict_proba(Ls[1])\n",
    "Y_test_ps = label_model.predict_proba(Ls[2])\n",
    "Y_ps = [Y_train_ps, Y_dev_ps, Y_test_ps]"
   ]
  },
  {
   "cell_type": "code",
   "execution_count": null,
   "metadata": {},
   "outputs": [],
   "source": []
  },
  {
   "cell_type": "code",
   "execution_count": null,
   "metadata": {},
   "outputs": [],
   "source": []
  }
 ],
 "metadata": {
  "kernelspec": {
   "display_name": "Python [conda env:metal] *",
   "language": "python",
   "name": "conda-env-metal-py"
  },
  "language_info": {
   "codemirror_mode": {
    "name": "ipython",
    "version": 3
   },
   "file_extension": ".py",
   "mimetype": "text/x-python",
   "name": "python",
   "nbconvert_exporter": "python",
   "pygments_lexer": "ipython3",
   "version": "3.6.7"
  }
 },
 "nbformat": 4,
 "nbformat_minor": 2
}
