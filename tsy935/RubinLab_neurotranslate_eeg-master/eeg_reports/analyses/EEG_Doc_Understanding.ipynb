{
 "cells": [
  {
   "cell_type": "code",
   "execution_count": null,
   "metadata": {},
   "outputs": [],
   "source": [
    "#%load_ext autoreload\n",
    "#%autoreload 2\n",
    "#%matplotlib inline\n",
    "import numpy as np\n",
    "import pandas as pd\n",
    "import os\n",
    "import sys\n",
    "import inspect\n",
    "\n",
    "print(np.__version__)"
   ]
  },
  {
   "cell_type": "code",
   "execution_count": null,
   "metadata": {},
   "outputs": [],
   "source": [
    "current_dir = os.path.dirname(os.path.abspath(inspect.getfile(inspect.currentframe())))\n",
    "parent_dir = os.path.dirname(current_dir)\n",
    "sys.path.insert(0, parent_dir)"
   ]
  },
  {
   "cell_type": "code",
   "execution_count": null,
   "metadata": {},
   "outputs": [],
   "source": [
    "# Setting data location\n",
    "eeg_data_path = '/Users/siyitang/Documents/RubinLab/Project/EEG/Data'\n",
    "eeg_data_file = 'reports_unique_for_hl_mm.xlsx'\n",
    "data_path = os.path.join(eeg_data_path, eeg_data_file)\n",
    "\n",
    "# Loading data\n",
    "df_eeg = pd.read_excel(data_path, index_col=0).dropna(how='all')\n",
    "\n",
    "# Rename the column names\n",
    "df_eeg = df_eeg.rename(index=str, columns={\"Hand Label (1 for seizure, -1 for no seizure, 0 for unsure)\": \"hand_label\",\"Note\":\"note\"})\n",
    "print(df_eeg.columns.values)"
   ]
  },
  {
   "cell_type": "code",
   "execution_count": null,
   "metadata": {},
   "outputs": [],
   "source": [
    "# Number of rows\n",
    "print('Number of rows:{}'.format(len(df_eeg)))"
   ]
  },
  {
   "cell_type": "code",
   "execution_count": null,
   "metadata": {},
   "outputs": [],
   "source": [
    "# Print a single note for understanding\n",
    "idx = np.random.randint(10342)\n",
    "idx = 2204\n",
    "# row index in spreadsheet - 2\n",
    "print(idx)\n",
    "print(df_eeg['mrn'][idx])\n",
    "print(df_eeg['note'][idx])"
   ]
  },
  {
   "cell_type": "code",
   "execution_count": null,
   "metadata": {
    "scrolled": true
   },
   "outputs": [],
   "source": [
    "# Convert to EEGNote\n",
    "from eeg_utils import EEGNote\n",
    "noteObj = EEGNote(df_eeg['note_uuid'][idx], df_eeg['note'][idx])"
   ]
  },
  {
   "cell_type": "code",
   "execution_count": null,
   "metadata": {},
   "outputs": [],
   "source": [
    "# Split into sections dictionary\n",
    "note_sec = noteObj.create_sections_dict()\n",
    "print('Number of sections: {}'.format(len(note_sec)))\n",
    "#print('Index: {}'.format(idx))\n",
    "print(note_sec)"
   ]
  },
  {
   "cell_type": "code",
   "execution_count": null,
   "metadata": {},
   "outputs": [],
   "source": [
    "for key, val in note_sec.items():\n",
    "    print('{}: {}\\n'.format(key, val))"
   ]
  },
  {
   "cell_type": "markdown",
   "metadata": {},
   "source": [
    "# Test extracting exact time of seizures"
   ]
  },
  {
   "cell_type": "code",
   "execution_count": null,
   "metadata": {},
   "outputs": [],
   "source": [
    "# If seizures/events section exists\n",
    "SEIZURE_EVENTS_SYN = ['seizures/events', 'seizures:', 'findings', 'push button events', 'neurobehavioral events']\n",
    "seizures_events_txt = ''\n",
    "for name in SEIZURE_EVENTS_SYN:\n",
    "    if name in note_sec.keys() and len(note_sec[name]) != 0:\n",
    "        seizures_events_txt = note_sec[name]\n",
    "        break\n",
    "\n",
    "print(seizures_events_txt)"
   ]
  },
  {
   "cell_type": "code",
   "execution_count": null,
   "metadata": {},
   "outputs": [],
   "source": [
    "import re\n",
    "from eeg_utils import extract_major_note_sections\n",
    "\n",
    "#TODO: Add more patterns for time format\n",
    "## NOTE: NEED TO PUT MORE SPECIFIC FORMATS IN FRONT OF MORE GENERAL FORMATS!!\n",
    "#DATE_TIME_SEC = r'(\\d+)/(\\d+)\\,\\s(\\d+):(\\d+):|(\\d+)/(\\d+)/(\\d+)\\s(\\d+):(\\d+):(\\d+)'\n",
    "TIME2TIME_SEC = r'(\\d+):(\\d+):(\\d+)\\s-\\s(\\d+):(\\d+):(\\d+)|(\\d+)\\s-\\s(\\d+)'\n",
    "#NUMBERING_SEC = r'\\d\\)|\\(\\d\\)'\n",
    "TIME_ONLY = r'(\\d\\d\\d\\d)\\s|(\\d\\d):(\\d\\d):(\\d\\d)\\s[A-Z]|(\\d\\d):(\\d\\d):(\\d\\d):|(\\d\\d):(\\d\\d):[!0-9][!0-9]|(\\d\\d):(\\d\\d)\\s[A-Z]'\n",
    "DATE_ONLY = r'(\\d+)/(\\d+)/(\\d+)'\n",
    "EXAMPLE_TIME = r'(\\d\\d\\d\\d)|(\\d+):(\\d+):(\\d+)\\s-\\s(\\d+):(\\d+):(\\d+)|(\\d+):(\\d+)-(\\d+):(\\d+)|(\\d+):(\\d+):(\\d+)|(\\d+):(\\d+)|(\\d+):(\\d+):(\\d+)\\s(and)\\s(\\d+):(\\d+):(\\d+)|(\\d+):(\\d+)\\s(and)\\s(\\d+):(\\d+)|(\\d+)\\s(and)\\s(\\d+)'\n",
    "\n",
    "## Some seizure detection phrases\n",
    "# 4 seizures were noted\n",
    "# examples occur at\n",
    "# occur 2-3 times\n",
    "# at least 39 seizures were recorded\n",
    "# seizure detection\n",
    "SEIZURE_DETECT_PHRASE = r'seizure\\sdetection|examples|(\\d+)\\sseizures|seizure|seizures|seizure\\srecorded|seizure\\sonset|spasms|myoclonic|clonic'\n",
    "SEIZURE_DETECT_PHRASE_RE = re.compile(SEIZURE_DETECT_PHRASE, re.IGNORECASE)\n",
    "NO_SEIZURE_PHRASE = r'no\\sseizures|no\\sseizure'\n",
    "NO_SEIZURE_PHRASE_RE = re.compile(NO_SEIZURE_PHRASE, re.IGNORECASE)\n",
    "\n",
    "# Extract subsections first if exist, then extract example times\n",
    "if re.search(DATE_ONLY, seizures_events_txt):\n",
    "    time_format = DATE_ONLY\n",
    "elif re.search(TIME2TIME_SEC, seizures_events_txt):\n",
    "    time_format = TIME2TIME_SEC\n",
    "elif re.search(TIME_ONLY, seizures_events_txt):\n",
    "    time_format = TIME_ONLY\n",
    "elif re.search(EXAMPLE_TIME, seizures_events_txt):\n",
    "    time_format = EXAMPLE_TIME\n",
    "else:\n",
    "    time_format = None\n",
    "print('Time format:{}'.format(time_format))\n",
    "if time_format is not None:\n",
    "    times_re = re.finditer(time_format, seizures_events_txt)\n",
    "    times = [seizures_events_txt[idx.start():idx.end()] for idx in times_re]\n",
    "    times_idx = [(idx.start(), idx.end()) for idx in times_re]\n",
    "    print('Times: {}'.format(times))\n",
    "    \n",
    "seizure_times = []  \n",
    "seizure_sections = {}\n",
    "if time_format != EXAMPLE_TIME and time_format is not None:   \n",
    "    sections = extract_major_note_sections(seizures_events_txt, times)\n",
    "    print('All sections: {}'.format(sections))\n",
    "    # Determine whether each time period has seizures detected\n",
    "    for time, event in sections.items():\n",
    "        if time_format == DATE_ONLY:\n",
    "            if re.search(TIME_ONLY, event) or re.search(TIME2TIME_SEC, event): # break down into more fine-grained times\n",
    "                if re.search(TIME2TIME_SEC, event):\n",
    "                    times_subsec_re = re.finditer(TIME2TIME_SEC, event)\n",
    "                else:\n",
    "                    times_subsec_re = re.finditer(TIME_ONLY, event)\n",
    "                times_subsec = [event[idx.start():idx.end()] for idx in times_subsec_re]\n",
    "                subsections = extract_major_note_sections(event, times_subsec)\n",
    "                for ky, val in subsections.items():\n",
    "                    if SEIZURE_DETECT_PHRASE_RE.search(val) and not NO_SEIZURE_PHRASE_RE.search(val):\n",
    "                        seizure_sections[time + ' ' + ky] = val\n",
    "                        seizure_times.append(time + ' ' + ky)\n",
    "            elif re.search(EXAMPLE_TIME, event): # search for example times\n",
    "                eg_time_re = re.finditer(EXAMPLE_TIME, event)\n",
    "                eg_times = [event[idx.start():idx.end()] for idx in eg_time_re]\n",
    "                seizure_sections[time] = event\n",
    "                seizure_times.extend(eg_times)\n",
    "        else:\n",
    "            if SEIZURE_DETECT_PHRASE_RE.search(event) and not NO_SEIZURE_PHRASE_RE.search(event):\n",
    "                seizure_sections[time] = event                \n",
    "                seizure_times.append(time)     \n",
    "elif time_format == EXAMPLE_TIME: # entire section is one paragraph with some examples of seizure onset times\n",
    "    if SEIZURE_DETECT_PHRASE_RE.search(seizures_events_txt) and not NO_SEIZURE_PHRASE_RE.search(seizures_events_txt):\n",
    "        seizure_times.extend(times)\n",
    "               \n",
    "print('All found times: {}'.format(seizure_times))\n",
    "print('Seizure sections: {}'.format(seizure_sections))"
   ]
  },
  {
   "cell_type": "markdown",
   "metadata": {},
   "source": [
    "# Multi-class seizure classification\n",
    "**Look at \"INTERPRETATION\", \"SUMMARY\", \"Impression\", \"Indication\" and the above extracted seizure events**\n",
    "## Motor seizures\n",
    "**A generic term, can be either generalized or focal onset seizures.**\n",
    "* **Tonic**: \"tonic\", e.g. 210, 219, 238, 251, 273, 356\n",
    "* **Clonic**: \"clonic\", e.g. 191, 193, 197, 206, 216, 273, 247\n",
    "* **Tonic-clonic and variants**: \"tonic clonic\", \"tonic-clonic\", e.g. 369, 238\n",
    "* **Atonic**: \"atonic\", e.g. 216\n",
    "* **Myoclonic**: \"myoclonic\", \"myoclonia\", e.g. 181, 283, 351\n",
    "* **Infantile spasm**: \"infantile spasms\", e.g. 192, 255, 257, 369\n",
    "* **Epileptic spasm**: \"epileptic spasms\", e.g. 1232, 1937, 2003\n",
    "* **Focal motor seizure with paresis/paralysis**: \"paralyzed\", \"paralysis\", e.g. 3995, 4916\n",
    "* **Focal motor seizure with dystonia**: \"dystonic\", \"dystonia\", e.g. 251\n",
    "* **Automatism**: \"automatisms\", e.g. 186, 8523, 8820, 8930\n",
    "* **Focal motor seizure with dysarthria / anarthria**: \"dysarthria\" but not \"no dysarthria\", e.g. 5008\n",
    "* **Focal hyperkinetic seizure**: \"hypermotor\", \"hyperkinetic\", e.g. 323, 8195, 9214, 1726, 3979\n",
    "* **Focal motor seizure with negative myoclonus**: \"negative myoclonus\", e.g. 5193, 8438, 9197\n",
    "* **Focal motor seizure with version**: \"version\", e.g. 5161, 5280, 5319\n",
    "* **Focal bilateral motor seizure (This type of seizure is also described as a 'fencer's posture' or a 'figure of 4')**: \"fencing posture\", \"bilateral motor\", \"figure of 4\", \"fencer\", e.g. 197, 1909, 5024, 939, 1882\n",
    "* **Epilepsia partialis continua**: \"epilepsia partialis continua\", e.g. 2486, 4919, 8467\n",
    "\n",
    "\n",
    "## Hyperkinetic seizures\n",
    "**This seizure type involves movements of proximal limb or axial muscles, producing irregular large amplitude movements, such as pedaling, pelvic thrusting, jumping, thrashing and/or rocking movements.**\n",
    "https://www.epilepsydiagnosis.org/seizure/motor-overview.html#hyperkinetic\n",
    "* \"hypermotor\", \"hyperkinetic\"\n",
    "* e.g. 323, 9214, 1726\n",
    "\n",
    "## Clonic seizures\n",
    "* \"clonic\", but not \"no clonic\" or \"tonic clonic\" or \"tonic-clonic\"\n",
    "* e.g. 191, 193, 197, 206, 216, 273, 247\n",
    "\n",
    "## Tonic seizures\n",
    "* \"tonic\", but not \"no tonic\" or \"tonic clonic\" or \"tonic-clonic\"\n",
    "* e.g. 210, 219, 238, 251, 273, 356\n",
    "\n",
    "\n",
    "## Based on behaviors\n",
    "* **Stiffening**: \"stiff\", \"stiffening\", e.g. 189, 191\n",
    "* **Clonic jerking**: \"clonic jerk\", e.g. 273, 283, 247\n",
    "* **Loss of tone**: NO EXAMPLES FOUND\n",
    "* **Dystonic posturing**: \"dystonic\", e.g. 251\n",
    "* **Figure of Four**: NO EXAMPLES FOUND\n",
    "* **Fencing posture**: \"fencing posture\", e.g. 197\n",
    "* **Automatisms**: \"automatisms\", e.g. 186\n",
    "\n",
    "## Based on impression of seizure types\n",
    "* **Tonic-clonic and variants**: \"tonic clonic\", \"tonic-clonic\", e.g. 369, 238\n",
    "* **Tonic**: \"tonic\", e.g. 210, 219, 238, 251, 273, 356\n",
    "* **Atonic**: \"atonic\", e.g. 216\n",
    "* **Myoclonic**: \"myoclonic\", \"myoclonia\", e.g. 283, 351\n",
    "* **Infantile spasm**: \"infantile spasms\", e.g. 192, 255, 257, 369\n",
    "* **Epileptic spasm**: \"epileptic spasms\", NO EXAMPLES FOUND\n",
    "* **Absence seizure**: \"absence seizures\", \"absence-like\", \"absence epilepsy\", e.g. 179, 186, 187, 198, 205, 208, 212, 213, 300, 333, 334\n",
    "* **Focal seizure impairing awareness (or complex partial seizure)**: \"complex partial seizures\", e.g. 196, 218, 221, 230\n",
    "* **Frontal seizure**: \"frontal\", \"frontal seizures\", e.g. 283, 194\n",
    "* **Temporal seizure**: \"temporal\", \"temporal seizures\", e.g. 191\n",
    "* **Parietal seizure**: \"parietal\", \"parietal seizures\", NO EXAMPLES FOUND\n",
    "* **Occipital seizure**: \"occipital\", \"occipital seizures\", e.g. 193, 197\n",
    "* **Gelastic seizure (a type of emotional seizures)**: \"gelastic seizures\", e.g. 201\n",
    "* **Dacrystic seizure (a type of emotional seizures)**: \"dacrystic seizures\", NO EXAMPLES FOUND\n",
    "\n"
   ]
  },
  {
   "cell_type": "code",
   "execution_count": null,
   "metadata": {},
   "outputs": [],
   "source": []
  },
  {
   "cell_type": "code",
   "execution_count": null,
   "metadata": {},
   "outputs": [],
   "source": []
  }
 ],
 "metadata": {
  "kernelspec": {
   "display_name": "Python 3",
   "language": "python",
   "name": "python3"
  },
  "language_info": {
   "codemirror_mode": {
    "name": "ipython",
    "version": 3
   },
   "file_extension": ".py",
   "mimetype": "text/x-python",
   "name": "python",
   "nbconvert_exporter": "python",
   "pygments_lexer": "ipython3",
   "version": "3.6.6"
  }
 },
 "nbformat": 4,
 "nbformat_minor": 2
}
