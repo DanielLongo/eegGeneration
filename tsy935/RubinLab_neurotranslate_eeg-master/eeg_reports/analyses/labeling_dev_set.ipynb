{
 "cells": [
  {
   "cell_type": "code",
   "execution_count": null,
   "metadata": {},
   "outputs": [],
   "source": [
    "#%load_ext autoreload\n",
    "#%autoreload 2\n",
    "#%matplotlib inline\n",
    "import numpy as np\n",
    "import pandas as pd\n",
    "import os\n",
    "import sys\n",
    "import inspect\n",
    "\n",
    "print(np.__version__)"
   ]
  },
  {
   "cell_type": "code",
   "execution_count": null,
   "metadata": {},
   "outputs": [],
   "source": [
    "current_dir = os.path.dirname(os.path.abspath(inspect.getfile(inspect.currentframe())))\n",
    "parent_dir = os.path.dirname(current_dir)\n",
    "sys.path.insert(0, parent_dir)"
   ]
  },
  {
   "cell_type": "code",
   "execution_count": null,
   "metadata": {},
   "outputs": [],
   "source": [
    "# Setting data location\n",
    "#eeg_data_path = '/Users/siyitang/Documents/RubinLab/Project/EEG/Data/Reports'\n",
    "eeg_data_path = '/home/tsy935/Docs/RubinLab/Data/EEG/Reports'\n",
    "eeg_data_file = 'reports_unique_for_hl_mm.csv'\n",
    "data_path = os.path.join(eeg_data_path, eeg_data_file)\n",
    "\n",
    "# Loading data\n",
    "df_eeg = pd.read_csv(data_path, index_col=0).dropna(how='all')\n",
    "\n",
    "# Rename the column names\n",
    "df_eeg = df_eeg.rename(index=str, columns={\"Hand Label (1 for seizure, -1 for no seizure, 0 for unsure)\": \"hand_label\",\"Note\":\"note\"})\n",
    "print(df_eeg.columns.values)"
   ]
  },
  {
   "cell_type": "code",
   "execution_count": null,
   "metadata": {},
   "outputs": [],
   "source": [
    "# Print a single note for understanding\n",
    "idx = np.random.randint(10342)\n",
    "idx = 553\n",
    "print(idx)\n",
    "print(df_eeg['mrn'][idx])\n",
    "#print(df_eeg['note'][idx])\n",
    "\n",
    "# Convert to EEGNote\n",
    "from eeg_utils import EEGNote\n",
    "noteObj = EEGNote(df_eeg['note_uuid'][idx], df_eeg['note'][idx])\n",
    "\n",
    "# Split into sections dictionary\n",
    "note_sec = noteObj.create_sections_dict()\n",
    "print(note_sec.keys())\n",
    "\n",
    "#for key, val in note_sec.items():\n",
    "#    print('{}: {}\\n'.format(key, val))"
   ]
  },
  {
   "cell_type": "code",
   "execution_count": null,
   "metadata": {
    "scrolled": true
   },
   "outputs": [],
   "source": [
    "sections_to_read = ['findings', 'interpretation', 'seizures/events', 'seizures:', 'seizure:', 'indication', 'impression', 'comments']\n",
    "\n",
    "for sec in sections_to_read:\n",
    "    if sec in note_sec.keys():\n",
    "        print('{}: {}'.format(sec, note_sec[sec]))\n",
    "\n",
    "print(note_sec)"
   ]
  },
  {
   "cell_type": "code",
   "execution_count": null,
   "metadata": {},
   "outputs": [],
   "source": [
    "## Enter the MRN numbers below for each class\n",
    "\n",
    "normal = [215, 226, 227, 232, 233, 237, 241, 244, 245, 249, 258, 259, 260, 261, 269, 275, 281, 282, 284, 287, 289, 292, \\\n",
    "         293, 294, 295, 296, 297, 298, 299, 303, 305, 311, 313, 315, 321, 322, 324, 327, 329, 336, 337, 340, 342, \\\n",
    "         343, 344, 345, 348, 353, 354, 355, 357, 358, 359, 362, 363, 365, 366, 368, 427, 432, 2, 3, 4, 9, 10, 13, 17, 18, \\\n",
    "         19, 22, 25, 35, 38, 40, 42, 45, 46, 55, 57, 67, 75, 78, 85, 87, 88, 90, 91, 93, 94, 96, 97, 98, 100, 101, \\\n",
    "         102, 103, 104, 105, 106, 108, 109, 110, 111, 112, 115, 118, 129, 131, 133, 134, 135, 137, 138, 142, 145, \\\n",
    "         146, 148, 156, 157, 158, 168, 372, 374, 376, 377, 378, 380, 381, 384, 385, 388, 391, 392, 393, 394, 399, \\\n",
    "         400, 401, 402, 404, 405, 406, 407, 409, 410, 411, 415, 416, 418, 420, 423, 425, 426, 428, 429, 431, 434, \\\n",
    "         441, 444, 446, 448, 452, 453, 456, 460, 461, 464, 467, 468, 471, 472, 473, 474, 475, 476, 483, 484, 486, \\\n",
    "         487, 490, 493, 494, 495, 496, 498, 503, 506, 509, 513, 514, 515, 518, 521, 522, 525, 526, 528, 529, 533, \\\n",
    "         542, 546, 547, 548, 551, 552, 554] # normal, no seizure, no abnormalities\n",
    "\n",
    "## Abnormal\n",
    "#abnormal_eeg = [248, 252, 256, 280, 302, 318, 350, 361, 34, 41, 43, 47, 56, 58, 65, 66, 68, 373, 455, 480, 507, \\\n",
    "#               524, 532, 544, 545] # abnormal but not any of the abnormal classes below\n",
    "abnormal_slowing = [189, 195, 199, 202, 203, 204, 209, 217, 218, 219, 220, 221, 222, 224, 228, 230, 231, 236, \\\n",
    "                   239, 242, 250, 264, 270, 276, 277, 283, 288, 304, 307, 308, 312, 314, 317, 323, 334, 335, 338, \\\n",
    "                   341, 352, 360, 371, 0, 6, 11, 12, 15, 16, 20, 24, 27, 29, 31, 32, 33, 37, 44, 48, 49, 59, 60, \\\n",
    "                   61, 62, 63, 64, 69, 70, 72, 79, 80, 81, 86, 99, 114, 119, 120, 121, 122, 123, 124, 125, 126, \\\n",
    "                   127, 128, 130, 132, 136, 139, 140, 141, 143, 144, 147, 149, 150, 151, 152, 153, 154, 155, 159, \\\n",
    "                   160, 161, 162, 163, 164, 165, 166, 167, 170, 172, 1726, 9214, 5344, 5707, 5885, 6124, 6259, 389, \\\n",
    "                   390, 396, 413, 414, 419, 421, 422, 430, 433, 435, 437, 438, 440, 447, 449, 450, 454, 457, 458, \\\n",
    "                   459, 465, 466, 479, 481, 482, 485, 489, 497, 501, 505, 511, 512, 519, 520, 530, 535, 536, \\\n",
    "                   537, 538, 543, 549, 553, 555]\n",
    "abnormal_spikes = [179, 181, 182, 183, 184, 185, 187, 190, 192, 196, 198, 199, 200, 201, 205, 206, \\\n",
    "                  207, 208, 210, 212, 213, 214, 216, 218, 223, 224, 228, 238, 247, 251, 255, 262, 270, \\\n",
    "                  271, 274, 285, 300, 301, 306, 308, 310, 316, 319, 325, 326, 328, 333, 339, 346, 351, 367, 369, \\\n",
    "                  1, 5, 7, 8, 11, 14, 23, 24, 26, 28, 29, 30, 39, 50, 51, 52, 54, 63, 80, 83, 84, 92, 95, 107, \\\n",
    "                  116, 117, 149, 150, 162, 169, 171, 172, 1726, 6124, 382, 389, 395, 397, 403, 408, 412, \\\n",
    "                  414, 421, 424, 439, 443, 445, 462, 463, 466, 469, 470, 477, 479, 485, 489, 492, 500, 502, 504, 505, \\\n",
    "                  508, 510, 516, 517, 520, 523, 531, 537, 540, 541, 550, 174]\n",
    "abnormal_sharps = [191, 193, 194, 199, 201, 203, 234, 235, 236, 240, 250, 251, 263, 265, 266, 267, 268, 273, 278, \\\n",
    "                  279, 290, 291, 309, 312, 316, 323, 332, 335, 349, 369, 370, 21, 36, 48, 53, 63, 74, 76, 77, 79, \\\n",
    "                  82, 86, 89, 113, 116, 150, 162, 5707, 6259, 382, 387, 390, 417, 449, 451, 465, 478, 482, 492, 499, \\\n",
    "                  534, 539, 553]\n",
    "abnormal_suppression = [194, 197, 217, 234, 265, 267, 268, 6, 71, 73, 176, 417, 499]\n",
    "abnormal_discont = [188, 191, 195, 197, 225, 240, 255, 265, 266, 278, 291, 309, 312, 316, 347, 364, 36, 76, 89, 151, \\\n",
    "                   155, 387, 417, 449, 478, 499, 539]\n",
    "abnormal_hypsar = [178, 192, 207, 209, 255, 257, 330, 395, 421, 489]"
   ]
  },
  {
   "cell_type": "code",
   "execution_count": null,
   "metadata": {},
   "outputs": [],
   "source": [
    "## Seizures\n",
    "abnormal_seizure = [175, 178, 179, 180, 181, 182, 183, 184, 185, 186, 187, 189, 190, 191, 192, 193, 194, 195, 196, 197, 198, \\\n",
    "                   199, 200, 201, 202, 203, 204, 205, 206, 207, 208, 209, 210, 211, 212, 213, 214, 216, 217, 219, 220, \\\n",
    "                   221, 222, 223, 229, 238, 246, 247, 250, 251, 255, 257, 267, 268, 271, 273, 274, 283, 286, 288, 291, \\\n",
    "                   300, 307, 323, 325, 330, 333, 334, 347, 351, 356, 364, 369, 48, 173, 1726, 9214, 5107, 5344, 5707, \\\n",
    "                   5830, 6124, 6259, 383, 387, 389, 390, 395, 408, 413, 417, 419, 421, 422, 439, 440, 443, 445, 449, \\\n",
    "                   462, 463, 479, 488, 489, 499, 502, 504, 505, 508, 531, 550]\n",
    "seizure_motor = [178, 181, 183, 189, 191, 192, 193, 197, 202, 206, 210, 219, 238, 251, 255, 257, 273, 283, 333, 347, \\\n",
    "                351, 356, 369, 48, 5830, 421, 439, 489]\n",
    "seizure_hyperkinetic = [323, 1726, 9214, 5107, 5344, 5707, 5830, 6259]\n",
    "seizure_tonic = [173, 210, 219, 238, 251, 273, 356, 48, 9214, 291, 395]\n",
    "seizure_clonic = [191, 193, 206, 273, 283, 347, 422]"
   ]
  },
  {
   "cell_type": "markdown",
   "metadata": {},
   "source": [
    "## Some doubts\n",
    "* Index 197, is it motor seizure (\"sometime like fencing posture\") ? NOT CONSISTENT - DIFFICULT CASE, currently label it as motor seizure.\n",
    "* Index 236, is there sharps? (\"focal sharp transients\") - YES\n",
    "* Index 251, is it tonic seizure? \"two electro-clinical seizures with tonic motor twisting dystonic movement\"\n",
    "* Index 56, is it abnormal?\n",
    "* Index 432, is it normal? \"Probably normal\""
   ]
  },
  {
   "cell_type": "markdown",
   "metadata": {},
   "source": [
    "## Annotated\n",
    "Continue label from 1 to 555, skipped some that are not EEG report"
   ]
  },
  {
   "cell_type": "markdown",
   "metadata": {},
   "source": [
    "# Write into a new dataframe and csv file"
   ]
  },
  {
   "cell_type": "code",
   "execution_count": null,
   "metadata": {},
   "outputs": [],
   "source": [
    "# 0 is reserved for abstain\n",
    "ABNORMAL_VAL = 1\n",
    "OTHERS_VAL = 2\n",
    "#NA_VAL = 3"
   ]
  },
  {
   "cell_type": "code",
   "execution_count": null,
   "metadata": {},
   "outputs": [],
   "source": [
    "# All labeled data\n",
    "labeled_indices = normal + abnormal_slowing + abnormal_spikes + abnormal_sharps + abnormal_suppression \\\n",
    "                    + abnormal_discont + abnormal_hypsar + abnormal_seizure + seizure_motor \\\n",
    "                    + seizure_hyperkinetic + seizure_tonic + seizure_clonic\n",
    "abnormal_indices = abnormal_slowing + abnormal_spikes + abnormal_sharps + abnormal_suppression \\\n",
    "                    + abnormal_discont + abnormal_hypsar + abnormal_seizure + seizure_motor \\\n",
    "                    + seizure_hyperkinetic + seizure_tonic + seizure_clonic\n",
    "labeled_indices = list(set(labeled_indices))\n",
    "len(labeled_indices)"
   ]
  },
  {
   "cell_type": "code",
   "execution_count": null,
   "metadata": {},
   "outputs": [],
   "source": [
    "# Each list will be a column in the new csv file, corresponding to one task\n",
    "label_abnormal = np.empty((len(df_eeg)))\n",
    "label_abnormal.fill(np.nan)\n",
    "\n",
    "label_seizure = np.empty((len(df_eeg)))\n",
    "label_seizure.fill(np.nan)\n",
    "\n",
    "label_slowing = np.empty((len(df_eeg)))\n",
    "label_slowing.fill(np.nan)\n",
    "\n",
    "label_spikes = np.empty((len(df_eeg)))\n",
    "label_spikes.fill(np.nan)\n",
    "\n",
    "label_sharps = np.empty((len(df_eeg)))\n",
    "label_sharps.fill(np.nan)\n",
    "\n",
    "label_suppression = np.empty((len(df_eeg)))\n",
    "label_suppression.fill(np.nan)\n",
    "\n",
    "label_discont = np.empty((len(df_eeg)))\n",
    "label_discont.fill(np.nan)\n",
    "\n",
    "label_hypsar = np.empty((len(df_eeg)))\n",
    "label_hypsar.fill(np.nan)\n",
    "\n",
    "label_seizure_motor = np.empty((len(df_eeg)))\n",
    "label_seizure_motor.fill(np.nan)\n",
    "\n",
    "label_seizure_hyperkinetic = np.empty((len(df_eeg)))\n",
    "label_seizure_hyperkinetic.fill(np.nan)\n",
    "\n",
    "label_seizure_tonic = np.empty((len(df_eeg)))\n",
    "label_seizure_tonic.fill(np.nan)\n",
    "\n",
    "label_seizure_clonic = np.empty((len(df_eeg)))\n",
    "label_seizure_clonic.fill(np.nan)"
   ]
  },
  {
   "cell_type": "code",
   "execution_count": null,
   "metadata": {},
   "outputs": [],
   "source": [
    "\n",
    "for idx in range(len(df_eeg)):\n",
    "    if idx in abnormal_indices:\n",
    "        label_abnormal[idx] = ABNORMAL_VAL\n",
    "    elif idx in normal:\n",
    "        label_abnormal[idx] = OTHERS_VAL\n",
    "    \n",
    "        \n",
    "    if idx in abnormal_seizure:\n",
    "        label_seizure[idx] = ABNORMAL_VAL\n",
    "    elif idx in normal:\n",
    "        label_seizure[idx] = OTHERS_VAL\n",
    "    elif idx in labeled_indices:\n",
    "        label_seizure[idx] = OTHERS_VAL\n",
    "    \n",
    "             \n",
    "    if idx in abnormal_slowing:\n",
    "        label_slowing[idx] = ABNORMAL_VAL\n",
    "    elif idx in normal:\n",
    "        label_slowing[idx] = OTHERS_VAL\n",
    "    elif idx in labeled_indices:\n",
    "        label_slowing[idx] = OTHERS_VAL\n",
    "    \n",
    "        \n",
    "    if idx in abnormal_spikes:\n",
    "        label_spikes[idx] = ABNORMAL_VAL\n",
    "    elif idx in normal:\n",
    "        label_spikes[idx] = OTHERS_VAL\n",
    "    elif idx in labeled_indices:\n",
    "        label_spikes[idx] = OTHERS_VAL\n",
    "    \n",
    "                \n",
    "    if idx in abnormal_sharps:\n",
    "        label_sharps[idx] = ABNORMAL_VAL\n",
    "    elif idx in normal:\n",
    "        label_sharps[idx] = OTHERS_VAL\n",
    "    elif idx in labeled_indices:\n",
    "        label_sharps[idx] = OTHERS_VAL\n",
    "    \n",
    "        \n",
    "    if idx in abnormal_suppression:\n",
    "        label_suppression[idx] = ABNORMAL_VAL\n",
    "    elif idx in normal:\n",
    "        label_suppression[idx] = OTHERS_VAL\n",
    "    elif idx in labeled_indices:\n",
    "        label_suppression[idx] = OTHERS_VAL\n",
    "    \n",
    "        \n",
    "    if idx in abnormal_discont:\n",
    "        label_discont[idx] = ABNORMAL_VAL\n",
    "    elif idx in normal:\n",
    "        label_discont[idx] = OTHERS_VAL\n",
    "    elif idx in labeled_indices:\n",
    "        label_discont[idx] = OTHERS_VAL\n",
    "    \n",
    "        \n",
    "    if idx in abnormal_hypsar:\n",
    "        label_hypsar[idx] = ABNORMAL_VAL\n",
    "    elif idx in normal:\n",
    "        label_hypsar[idx] = OTHERS_VAL\n",
    "    elif idx in labeled_indices:\n",
    "        label_hypsar[idx] = OTHERS_VAL\n",
    "    \n",
    "        \n",
    "    if idx in seizure_motor:   \n",
    "        label_seizure_motor[idx] = ABNORMAL_VAL\n",
    "    elif idx in normal:\n",
    "        label_seizure_motor[idx] = OTHERS_VAL\n",
    "    elif idx in labeled_indices:\n",
    "        label_seizure_motor[idx] = OTHERS_VAL\n",
    "    \n",
    "        \n",
    "    if idx in seizure_hyperkinetic:\n",
    "        label_seizure_hyperkinetic[idx] = ABNORMAL_VAL\n",
    "    elif idx in normal:\n",
    "        label_seizure_hyperkinetic[idx] = OTHERS_VAL\n",
    "    elif idx in labeled_indices:\n",
    "        label_seizure_hyperkinetic[idx] = OTHERS_VAL\n",
    "    \n",
    "               \n",
    "    if idx in seizure_tonic:\n",
    "        label_seizure_tonic[idx] = ABNORMAL_VAL\n",
    "    elif idx in normal:\n",
    "        label_seizure_tonic[idx] = OTHERS_VAL\n",
    "    elif idx in labeled_indices:\n",
    "        label_seizure_tonic[idx] = OTHERS_VAL\n",
    "    \n",
    "        \n",
    "    if idx in seizure_clonic:\n",
    "        label_seizure_clonic[idx] = ABNORMAL_VAL\n",
    "    elif idx in normal:\n",
    "        label_seizure_clonic[idx] = OTHERS_VAL\n",
    "    elif idx in labeled_indices:\n",
    "        label_seizure_clonic[idx] = OTHERS_VAL\n",
    "    "
   ]
  },
  {
   "cell_type": "code",
   "execution_count": null,
   "metadata": {},
   "outputs": [],
   "source": [
    "# Write into new dataframe\n",
    "df_new = df_eeg\n",
    "df_new['multiclass_label_abnormal'] = label_abnormal\n",
    "df_new['multiclass_label_seizure'] = label_seizure\n",
    "df_new['multiclass_label_slowing'] = label_slowing\n",
    "df_new['multiclass_label_spikes'] = label_spikes\n",
    "df_new['multiclass_label_sharps'] = label_sharps\n",
    "df_new['multiclass_label_suppression'] = label_suppression\n",
    "df_new['multiclass_label_discont'] = label_discont\n",
    "df_new['multiclass_label_hypsar'] = label_hypsar\n",
    "df_new['multiclass_label_seizure_motor'] = label_seizure_motor\n",
    "df_new['multiclass_label_seizure_hyperkinetic'] = label_seizure_hyperkinetic\n",
    "df_new['multiclass_label_seizure_tonic'] = label_seizure_tonic\n",
    "df_new['multiclass_label_seizure_clonic'] = label_seizure_clonic"
   ]
  },
  {
   "cell_type": "code",
   "execution_count": null,
   "metadata": {},
   "outputs": [],
   "source": [
    "df_new"
   ]
  },
  {
   "cell_type": "code",
   "execution_count": null,
   "metadata": {},
   "outputs": [],
   "source": [
    "file_name = os.path.join(eeg_data_path, 'reports_unique_for_hl_mm_multiclassLabels.csv')"
   ]
  },
  {
   "cell_type": "code",
   "execution_count": null,
   "metadata": {},
   "outputs": [],
   "source": [
    "df_new.to_csv(file_name, index=False)"
   ]
  },
  {
   "cell_type": "code",
   "execution_count": null,
   "metadata": {},
   "outputs": [],
   "source": []
  }
 ],
 "metadata": {
  "kernelspec": {
   "display_name": "Python3 (eeg)",
   "language": "python",
   "name": "eeg"
  },
  "language_info": {
   "codemirror_mode": {
    "name": "ipython",
    "version": 3
   },
   "file_extension": ".py",
   "mimetype": "text/x-python",
   "name": "python",
   "nbconvert_exporter": "python",
   "pygments_lexer": "ipython3",
   "version": "3.6.7"
  }
 },
 "nbformat": 4,
 "nbformat_minor": 2
}
