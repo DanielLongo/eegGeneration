{
 "cells": [
  {
   "cell_type": "code",
   "execution_count": 1,
   "metadata": {},
   "outputs": [],
   "source": [
    "import numpy as np\n",
    "import os\n",
    "import sys\n",
    "import inspect\n",
    "\n",
    "# Add parent dir to the sys path\n",
    "current_dir = os.path.dirname(os.path.abspath(inspect.getfile(inspect.currentframe())))\n",
    "parent_dir = os.path.dirname(current_dir)\n",
    "sys.path.insert(0, parent_dir)\n",
    "\n",
    "from constants import *"
   ]
  },
  {
   "cell_type": "markdown",
   "metadata": {},
   "source": [
    "# Sanity check to make sure train and dev splits have no overlapping patients"
   ]
  },
  {
   "cell_type": "code",
   "execution_count": 2,
   "metadata": {},
   "outputs": [],
   "source": [
    "train_patients = []\n",
    "train_seizure_file = '../data/trainSet_seizure_files.txt'\n",
    "with open(train_seizure_file) as f:\n",
    "    train_str = f.readlines()\n",
    "    \n",
    "for i in range(len(train_str)):\n",
    "    tup = train_str[i].strip(\"\\n\").split(\",\")\n",
    "    train_patients.append(tup[0][-22:-14])"
   ]
  },
  {
   "cell_type": "code",
   "execution_count": 3,
   "metadata": {},
   "outputs": [],
   "source": [
    "dev_seizure_file = '../data/devSet_seizure_files.txt'\n",
    "\n",
    "with open(dev_seizure_file) as f:\n",
    "    dev_str = f.readlines()\n",
    "    \n",
    "for i in range(len(dev_str)):\n",
    "    tup = dev_str[i].strip(\"\\n\").split(\",\")\n",
    "    curr_pat = tup[0][-22:-14]\n",
    "    if curr_pat in train_patients:\n",
    "        raise ValueError('Patient {} exists in train split!'.format(curr_pat))"
   ]
  },
  {
   "cell_type": "code",
   "execution_count": null,
   "metadata": {},
   "outputs": [],
   "source": []
  }
 ],
 "metadata": {
  "kernelspec": {
   "display_name": "Python3 (eeg)",
   "language": "python",
   "name": "eeg"
  },
  "language_info": {
   "codemirror_mode": {
    "name": "ipython",
    "version": 3
   },
   "file_extension": ".py",
   "mimetype": "text/x-python",
   "name": "python",
   "nbconvert_exporter": "python",
   "pygments_lexer": "ipython3",
   "version": "3.6.7"
  }
 },
 "nbformat": 4,
 "nbformat_minor": 2
}
